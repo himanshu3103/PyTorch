{
  "nbformat": 4,
  "nbformat_minor": 0,
  "metadata": {
    "colab": {
      "name": "00_pytorch_fundamentals_exercises.ipynb",
      "provenance": [],
      "include_colab_link": true
    },
    "kernelspec": {
      "name": "python3",
      "display_name": "Python 3"
    },
    "language_info": {
      "name": "python"
    },
    "accelerator": "GPU"
  },
  "cells": [
    {
      "cell_type": "markdown",
      "metadata": {
        "id": "view-in-github",
        "colab_type": "text"
      },
      "source": [
        "<a href=\"https://colab.research.google.com/github/himanshu3103/PyTorch/blob/main/Pytorch_fundamentals_exercises.ipynb\" target=\"_parent\"><img src=\"https://colab.research.google.com/assets/colab-badge.svg\" alt=\"Open In Colab\"/></a>"
      ]
    },
    {
      "cell_type": "markdown",
      "source": [
        "# 00. PyTorch Fundamentals Exercises\n",
        "\n",
        "### 1. Documentation reading \n",
        "\n",
        "A big part of deep learning (and learning to code in general) is getting familiar with the documentation of a certain framework you're using. We'll be using the PyTorch documentation a lot throughout the rest of this course. So I'd recommend spending 10-minutes reading the following (it's okay if you don't get some things for now, the focus is not yet full understanding, it's awareness):\n",
        "  * The documentation on [`torch.Tensor`](https://pytorch.org/docs/stable/tensors.html#torch-tensor).\n",
        "  * The documentation on [`torch.cuda`](https://pytorch.org/docs/master/notes/cuda.html#cuda-semantics).\n",
        "\n"
      ],
      "metadata": {
        "id": "AzDBM_v4iMe7"
      }
    },
    {
      "cell_type": "code",
      "source": [
        "# No code solution (reading)"
      ],
      "metadata": {
        "id": "bGD0oD8Kizak"
      },
      "execution_count": null,
      "outputs": []
    },
    {
      "cell_type": "markdown",
      "source": [
        "### 2. Create a random tensor with shape `(7, 7)`.\n"
      ],
      "metadata": {
        "id": "__iXqqz-ioUJ"
      }
    },
    {
      "cell_type": "code",
      "source": [
        "# Import torch\n",
        "import torch\n",
        "# Create random tensor\n",
        "rand_tensor = torch.rand(7,7)\n",
        "print(f\"Random 7X7 tensor is: {rand_tensor}\")"
      ],
      "metadata": {
        "id": "6pUq9Dc8i2L7",
        "outputId": "aad54df9-88a5-4ef4-bd8c-dffd1812d04a",
        "colab": {
          "base_uri": "https://localhost:8080/"
        }
      },
      "execution_count": 1,
      "outputs": [
        {
          "output_type": "stream",
          "name": "stdout",
          "text": [
            "Random 7X7 tensor is: tensor([[0.7752, 0.7122, 0.1099, 0.8054, 0.8627, 0.4708, 0.3476],\n",
            "        [0.5214, 0.6715, 0.7405, 0.7459, 0.4598, 0.1169, 0.0140],\n",
            "        [0.1121, 0.8255, 0.6763, 0.0804, 0.6501, 0.6318, 0.5915],\n",
            "        [0.1166, 0.2095, 0.5201, 0.6677, 0.0467, 0.1931, 0.6254],\n",
            "        [0.4878, 0.0426, 0.5435, 0.0638, 0.0553, 0.3960, 0.7523],\n",
            "        [0.2613, 0.5333, 0.9153, 0.8050, 0.0774, 0.1983, 0.8137],\n",
            "        [0.5898, 0.7491, 0.1305, 0.4186, 0.5670, 0.5434, 0.8965]])\n"
          ]
        }
      ]
    },
    {
      "cell_type": "markdown",
      "source": [
        "### 3. Perform a matrix multiplication on the tensor from 2 with another random tensor with shape `(1, 7)` (hint: you may have to transpose the second tensor)."
      ],
      "metadata": {
        "id": "9-XxvRLfiqkR"
      }
    },
    {
      "cell_type": "code",
      "source": [
        "# Create another random tensor\n",
        "rand_tensor_2 = torch.rand(1,7)\n",
        "print(f\"Random tensor 2: {rand_tensor_2}\")\n",
        "print(f\"Random tensor 2 shape: {rand_tensor_2.shape}\")\n",
        "# Perform matrix multiplication \n",
        "rand_tensor_2_transposed = rand_tensor_2.reshape(7,1) #transposing the rand tensor matrix multiplication\n",
        "mat_mul_result = torch.matmul(rand_tensor,rand_tensor_2_transposed)\n",
        "print(f\"Matrix Multiplication gives: {mat_mul_result}\")"
      ],
      "metadata": {
        "id": "NcLqR0Sbi_vT",
        "outputId": "4a8d36f6-3d89-4f1b-ad80-1fe46c1af56d",
        "colab": {
          "base_uri": "https://localhost:8080/"
        }
      },
      "execution_count": 2,
      "outputs": [
        {
          "output_type": "stream",
          "name": "stdout",
          "text": [
            "Random tensor 2: tensor([[0.3094, 0.9987, 0.0793, 0.8677, 0.1470, 0.0574, 0.1002]])\n",
            "Random tensor 2 shape: torch.Size([1, 7])\n",
            "Matrix Multiplication gives: tensor([[1.8474],\n",
            "        [1.6136],\n",
            "        [1.1736],\n",
            "        [0.9464],\n",
            "        [0.3982],\n",
            "        [1.4888],\n",
            "        [1.5085]])\n"
          ]
        }
      ]
    },
    {
      "cell_type": "markdown",
      "source": [
        "### 4. Set the random seed to `0` and do 2 & 3 over again.\n",
        "\n",
        "The output should be:\n",
        "```\n",
        "(tensor([[1.8542],\n",
        "         [1.9611],\n",
        "         [2.2884],\n",
        "         [3.0481],\n",
        "         [1.7067],\n",
        "         [2.5290],\n",
        "         [1.7989]]), torch.Size([7, 1]))\n",
        "```"
      ],
      "metadata": {
        "id": "eiutdKUFiryU"
      }
    },
    {
      "cell_type": "code",
      "source": [
        "# Set manual seed\n",
        "RANDOM_SEED = 0\n",
        "torch.manual_seed(RANDOM_SEED)\n",
        "\n",
        "# Create two random tensors\n",
        "rand_tensor_1 = torch.rand(7,7)\n",
        "rand_tensor_2 = torch.rand(1,7)\n",
        "rand_tensor_2_transposed = rand_tensor_2.reshape(7,1)\n",
        "# Matrix multiply tensors\n",
        "mat_mul_result = torch.matmul(rand_tensor_1,rand_tensor_2_transposed)\n",
        "print(f\"Random Tensor 1: {rand_tensor_1} \\nand its shape: {rand_tensor_1.shape}\")\n",
        "print(f\"Random Tensor 2: {rand_tensor_2} \\nand its shape: {rand_tensor_2.shape}\")\n",
        "print(f\"Matrix multiplication result: {mat_mul_result}\")"
      ],
      "metadata": {
        "id": "D-lOWI_1jRMm",
        "outputId": "a49cb121-bc94-4842-8d94-3a867319c50c",
        "colab": {
          "base_uri": "https://localhost:8080/"
        }
      },
      "execution_count": 4,
      "outputs": [
        {
          "output_type": "stream",
          "name": "stdout",
          "text": [
            "Random Tensor 1: tensor([[0.4963, 0.7682, 0.0885, 0.1320, 0.3074, 0.6341, 0.4901],\n",
            "        [0.8964, 0.4556, 0.6323, 0.3489, 0.4017, 0.0223, 0.1689],\n",
            "        [0.2939, 0.5185, 0.6977, 0.8000, 0.1610, 0.2823, 0.6816],\n",
            "        [0.9152, 0.3971, 0.8742, 0.4194, 0.5529, 0.9527, 0.0362],\n",
            "        [0.1852, 0.3734, 0.3051, 0.9320, 0.1759, 0.2698, 0.1507],\n",
            "        [0.0317, 0.2081, 0.9298, 0.7231, 0.7423, 0.5263, 0.2437],\n",
            "        [0.5846, 0.0332, 0.1387, 0.2422, 0.8155, 0.7932, 0.2783]]) \n",
            "and its shape: torch.Size([7, 7])\n",
            "Random Tensor 2: tensor([[0.4820, 0.8198, 0.9971, 0.6984, 0.5675, 0.8352, 0.2056]]) \n",
            "and its shape: torch.Size([1, 7])\n",
            "Matrix multiplication result: tensor([[1.8542],\n",
            "        [1.9611],\n",
            "        [2.2884],\n",
            "        [3.0481],\n",
            "        [1.7067],\n",
            "        [2.5290],\n",
            "        [1.7989]])\n"
          ]
        }
      ]
    },
    {
      "cell_type": "markdown",
      "source": [
        "### 5. Speaking of random seeds, we saw how to set it with `torch.manual_seed()` but is there a GPU equivalent? (hint: you'll need to look into the documentation for `torch.cuda` for this one)\n",
        "  * If there is, set the GPU random seed to `1234`."
      ],
      "metadata": {
        "id": "ezY6ks9Cis37"
      }
    },
    {
      "cell_type": "code",
      "source": [
        "# Set random seed on the GPU\n",
        "RANDOM_SEED_GPU = 1234\n",
        "torch.cuda.manual_seed(RANDOM_SEED_GPU)"
      ],
      "metadata": {
        "id": "_LKWcfSTjp00"
      },
      "execution_count": 5,
      "outputs": []
    },
    {
      "cell_type": "markdown",
      "source": [
        "\n",
        "### 6. Create two random tensors of shape `(2, 3)` and send them both to the GPU (you'll need access to a GPU for this). Set `torch.manual_seed(1234)` when creating the tensors (this doesn't have to be the GPU random seed). The output should be something like:\n",
        "\n",
        "```\n",
        "Device: cuda\n",
        "(tensor([[0.0290, 0.4019, 0.2598],\n",
        "         [0.3666, 0.0583, 0.7006]], device='cuda:0'),\n",
        " tensor([[0.0518, 0.4681, 0.6738],\n",
        "         [0.3315, 0.7837, 0.5631]], device='cuda:0'))\n",
        "```"
      ],
      "metadata": {
        "id": "Ir9qSaj6it4n"
      }
    },
    {
      "cell_type": "code",
      "source": [
        "# Set random seed\n",
        "RANDOM_SEED = 1234\n",
        "torch.manual_seed(RANDOM_SEED)\n",
        "\n",
        "# Check for access to GPU\n",
        "device = \"cuda\" if torch.cuda.is_available() else \"cpu\"\n",
        "print(f\"The current device is: {device}\")\n",
        "\n",
        "# Create two random tensors on GPU\n",
        "rand_tensor_gpu_1 = torch.rand(2,3).to(device)\n",
        "rand_tensor_gpu_2 = torch.rand(2,3).to(device)\n",
        "print(f\"Random tensor 1 on gpu is: {rand_tensor_gpu_1}\")\n",
        "print(f\"Random tensor 2 on gpu is: {rand_tensor_gpu_2}\")"
      ],
      "metadata": {
        "id": "azXExiFZj5nm",
        "outputId": "aa855039-3d5e-47fd-ab67-47920f6d41ed",
        "colab": {
          "base_uri": "https://localhost:8080/"
        }
      },
      "execution_count": 10,
      "outputs": [
        {
          "output_type": "stream",
          "name": "stdout",
          "text": [
            "The current device is: cuda\n",
            "Random tensor 1 on gpu is: tensor([[0.0290, 0.4019, 0.2598],\n",
            "        [0.3666, 0.0583, 0.7006]], device='cuda:0')\n",
            "Random tensor 2 on gpu is: tensor([[0.0518, 0.4681, 0.6738],\n",
            "        [0.3315, 0.7837, 0.5631]], device='cuda:0')\n"
          ]
        }
      ]
    },
    {
      "cell_type": "markdown",
      "source": [
        "\n",
        "### 7. Perform a matrix multiplication on the tensors you created in 6 (again, you may have to adjust the shapes of one of the tensors).\n",
        "\n",
        "The output should look like:\n",
        "```\n",
        "(tensor([[0.3647, 0.4709],\n",
        "         [0.5184, 0.5617]], device='cuda:0'), torch.Size([2, 2]))\n",
        "```"
      ],
      "metadata": {
        "id": "5TlAxeiSiu1y"
      }
    },
    {
      "cell_type": "code",
      "source": [
        "# Perform matmul on tensor_A and tensor_B\n",
        "print(f\"Random tensor 1 on gpu is: {rand_tensor_gpu_1}\")\n",
        "print(f\"Random tensor 2 on gpu is: {rand_tensor_gpu_2}\")\n",
        "mat_mul_result = torch.matmul(rand_tensor_gpu_1,rand_tensor_gpu_2.reshape(3,2))\n",
        "print(f\"Matrix Multiplication Result: {mat_mul_result}\")"
      ],
      "metadata": {
        "id": "fAeG7ox0lHEO",
        "outputId": "ddba90ce-ae4b-4e3b-ea9b-17a360e8e7c1",
        "colab": {
          "base_uri": "https://localhost:8080/"
        }
      },
      "execution_count": 14,
      "outputs": [
        {
          "output_type": "stream",
          "name": "stdout",
          "text": [
            "Random tensor 1 on gpu is: tensor([[0.0290, 0.4019, 0.2598],\n",
            "        [0.3666, 0.0583, 0.7006]], device='cuda:0')\n",
            "Random tensor 2 on gpu is: tensor([[0.0518, 0.4681, 0.6738],\n",
            "        [0.3315, 0.7837, 0.5631]], device='cuda:0')\n",
            "Matrix Multiplication Result: tensor([[0.4759, 0.2931],\n",
            "        [0.6074, 0.5855]], device='cuda:0')\n"
          ]
        }
      ]
    },
    {
      "cell_type": "markdown",
      "source": [
        "### 8. Find the maximum and minimum values of the output of 7."
      ],
      "metadata": {
        "id": "G7qfa5CSivwg"
      }
    },
    {
      "cell_type": "code",
      "source": [
        "# Find max\n",
        "max = torch.max(mat_mul_result)\n",
        "print(f\"Max value of the matrix mul: {max}\")\n",
        "# Find min\n",
        "min = torch.min(mat_mul_result)\n",
        "print(f\"Min value of the matrix mul : {min}\")"
      ],
      "metadata": {
        "id": "Fu8_3mZpllOd",
        "outputId": "56101550-f5bb-4acd-f238-f1bc0d0c6177",
        "colab": {
          "base_uri": "https://localhost:8080/"
        }
      },
      "execution_count": 15,
      "outputs": [
        {
          "output_type": "stream",
          "name": "stdout",
          "text": [
            "Max value of the matrix mul: 0.6073753833770752\n",
            "Min value of the matrix mul : 0.2930890917778015\n"
          ]
        }
      ]
    },
    {
      "cell_type": "markdown",
      "source": [
        "### 9. Find the maximum and minimum index values of the output of 7."
      ],
      "metadata": {
        "id": "wrTj5FgNiw47"
      }
    },
    {
      "cell_type": "code",
      "source": [
        "# Find arg max\n",
        "arg_max = torch.argmax(mat_mul_result)\n",
        "print(f\"Arg max: {arg_max}\")\n",
        "# Find arg min\n",
        "arg_min = torch.argmin(mat_mul_result)\n",
        "print(f\"Arg min: {arg_min}\")"
      ],
      "metadata": {
        "id": "CCEKt4K2lsfQ",
        "outputId": "9f2e60dc-5edf-455f-88e8-bca4da6d03cb",
        "colab": {
          "base_uri": "https://localhost:8080/"
        }
      },
      "execution_count": 16,
      "outputs": [
        {
          "output_type": "stream",
          "name": "stdout",
          "text": [
            "Arg max: 2\n",
            "Arg min: 1\n"
          ]
        }
      ]
    },
    {
      "cell_type": "markdown",
      "source": [
        "\n",
        "### 10. Make a random tensor with shape `(1, 1, 1, 10)` and then create a new tensor with all the `1` dimensions removed to be left with a tensor of shape `(10)`. Set the seed to `7` when you create it and print out the first tensor and it's shape as well as the second tensor and it's shape.\n",
        "\n",
        "The output should look like:\n",
        "\n",
        "```\n",
        "tensor([[[[0.5349, 0.1988, 0.6592, 0.6569, 0.2328, 0.4251, 0.2071, 0.6297,\n",
        "           0.3653, 0.8513]]]]) torch.Size([1, 1, 1, 10])\n",
        "tensor([0.5349, 0.1988, 0.6592, 0.6569, 0.2328, 0.4251, 0.2071, 0.6297, 0.3653,\n",
        "        0.8513]) torch.Size([10])\n",
        "```"
      ],
      "metadata": {
        "id": "hmeybz4uixy7"
      }
    },
    {
      "cell_type": "code",
      "source": [
        "# Set seed\n",
        "RANDOM_SEED = 7\n",
        "torch.manual_seed(RANDOM_SEED)\n",
        "\n",
        "# Create random tensor\n",
        "rand_tensor = torch.rand(1,1,1,10)\n",
        "\n",
        "# Remove single dimensions\n",
        "rand_tensor_squeezed = rand_tensor.squeeze()\n",
        "\n",
        "# Print out tensors and their shapes\n",
        "print(f\"Random Tensor: {rand_tensor} \\nand shape: {rand_tensor.shape}\")\n",
        "print(f\"Squeezed Tensor: {rand_tensor_squeezed} \\nand shape: {rand_tensor_squeezed.shape}\")"
      ],
      "metadata": {
        "id": "TQ9zbRzVl1jV",
        "outputId": "f02fc3df-fcc2-4af7-898e-8499f571b340",
        "colab": {
          "base_uri": "https://localhost:8080/"
        }
      },
      "execution_count": 18,
      "outputs": [
        {
          "output_type": "stream",
          "name": "stdout",
          "text": [
            "Random Tensor: tensor([[[[0.5349, 0.1988, 0.6592, 0.6569, 0.2328, 0.4251, 0.2071, 0.6297,\n",
            "           0.3653, 0.8513]]]]) \n",
            "and shape: torch.Size([1, 1, 1, 10])\n",
            "Squeezed Tensor: tensor([0.5349, 0.1988, 0.6592, 0.6569, 0.2328, 0.4251, 0.2071, 0.6297, 0.3653,\n",
            "        0.8513]) \n",
            "and shape: torch.Size([10])\n"
          ]
        }
      ]
    },
    {
      "cell_type": "code",
      "source": [],
      "metadata": {
        "id": "HELjUWo64asJ"
      },
      "execution_count": null,
      "outputs": []
    }
  ]
}
