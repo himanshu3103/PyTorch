{
  "cells": [
    {
      "cell_type": "markdown",
      "metadata": {
        "id": "view-in-github",
        "colab_type": "text"
      },
      "source": [
        "<a href=\"https://colab.research.google.com/github/himanshu3103/PyTorch/blob/main/Implementation_of_Quickstart_Tutorial_PyTorch_Docs.ipynb\" target=\"_parent\"><img src=\"https://colab.research.google.com/assets/colab-badge.svg\" alt=\"Open In Colab\"/></a>"
      ]
    },
    {
      "cell_type": "code",
      "execution_count": 1,
      "metadata": {
        "id": "MVRKem595pdK"
      },
      "outputs": [],
      "source": [
        "# For tips on running notebooks in Google Colab, see\n",
        "# https://pytorch.org/tutorials/beginner/colab\n",
        "%matplotlib inline"
      ]
    },
    {
      "cell_type": "markdown",
      "metadata": {
        "id": "W5zDKBgb5pdM"
      },
      "source": [
        "\n",
        "[Learn the Basics](intro.html) ||\n",
        "**Quickstart** ||\n",
        "[Tensors](tensorqs_tutorial.html) ||\n",
        "[Datasets & DataLoaders](data_tutorial.html) ||\n",
        "[Transforms](transforms_tutorial.html) ||\n",
        "[Build Model](buildmodel_tutorial.html) ||\n",
        "[Autograd](autogradqs_tutorial.html) ||\n",
        "[Optimization](optimization_tutorial.html) ||\n",
        "[Save & Load Model](saveloadrun_tutorial.html)\n",
        "\n",
        "# Quickstart\n",
        "This section runs through the API for common tasks in machine learning. Refer to the links in each section to dive deeper.\n",
        "\n",
        "## Working with data\n",
        "PyTorch has two [primitives to work with data](https://pytorch.org/docs/stable/data.html):\n",
        "``torch.utils.data.DataLoader`` and ``torch.utils.data.Dataset``.\n",
        "``Dataset`` stores the samples and their corresponding labels, and ``DataLoader`` wraps an iterable around\n",
        "the ``Dataset``.\n"
      ]
    },
    {
      "cell_type": "code",
      "execution_count": 2,
      "metadata": {
        "id": "epp5CsK05pdO"
      },
      "outputs": [],
      "source": [
        "import torch\n",
        "from torch import nn\n",
        "from torch.utils.data import DataLoader\n",
        "from torchvision import datasets\n",
        "from torchvision.transforms import ToTensor"
      ]
    },
    {
      "cell_type": "markdown",
      "metadata": {
        "id": "xT5zy4q75pdO"
      },
      "source": [
        "PyTorch offers domain-specific libraries such as [TorchText](https://pytorch.org/text/stable/index.html),\n",
        "[TorchVision](https://pytorch.org/vision/stable/index.html), and [TorchAudio](https://pytorch.org/audio/stable/index.html),\n",
        "all of which include datasets. For this tutorial, we  will be using a TorchVision dataset.\n",
        "\n",
        "The ``torchvision.datasets`` module contains ``Dataset`` objects for many real-world vision data like\n",
        "CIFAR, COCO ([full list here](https://pytorch.org/vision/stable/datasets.html)). In this tutorial, we\n",
        "use the FashionMNIST dataset. Every TorchVision ``Dataset`` includes two arguments: ``transform`` and\n",
        "``target_transform`` to modify the samples and labels respectively.\n",
        "\n"
      ]
    },
    {
      "cell_type": "code",
      "execution_count": 3,
      "metadata": {
        "id": "5yKi7yow5pdP",
        "outputId": "2376987a-0a52-4c92-9266-655421479930",
        "colab": {
          "base_uri": "https://localhost:8080/"
        }
      },
      "outputs": [
        {
          "output_type": "stream",
          "name": "stdout",
          "text": [
            "Downloading http://fashion-mnist.s3-website.eu-central-1.amazonaws.com/train-images-idx3-ubyte.gz\n",
            "Downloading http://fashion-mnist.s3-website.eu-central-1.amazonaws.com/train-images-idx3-ubyte.gz to data/FashionMNIST/raw/train-images-idx3-ubyte.gz\n"
          ]
        },
        {
          "output_type": "stream",
          "name": "stderr",
          "text": [
            "100%|██████████| 26421880/26421880 [00:03<00:00, 7791945.51it/s] \n"
          ]
        },
        {
          "output_type": "stream",
          "name": "stdout",
          "text": [
            "Extracting data/FashionMNIST/raw/train-images-idx3-ubyte.gz to data/FashionMNIST/raw\n",
            "\n",
            "Downloading http://fashion-mnist.s3-website.eu-central-1.amazonaws.com/train-labels-idx1-ubyte.gz\n",
            "Downloading http://fashion-mnist.s3-website.eu-central-1.amazonaws.com/train-labels-idx1-ubyte.gz to data/FashionMNIST/raw/train-labels-idx1-ubyte.gz\n"
          ]
        },
        {
          "output_type": "stream",
          "name": "stderr",
          "text": [
            "100%|██████████| 29515/29515 [00:00<00:00, 138640.04it/s]\n"
          ]
        },
        {
          "output_type": "stream",
          "name": "stdout",
          "text": [
            "Extracting data/FashionMNIST/raw/train-labels-idx1-ubyte.gz to data/FashionMNIST/raw\n",
            "\n",
            "Downloading http://fashion-mnist.s3-website.eu-central-1.amazonaws.com/t10k-images-idx3-ubyte.gz\n",
            "Downloading http://fashion-mnist.s3-website.eu-central-1.amazonaws.com/t10k-images-idx3-ubyte.gz to data/FashionMNIST/raw/t10k-images-idx3-ubyte.gz\n"
          ]
        },
        {
          "output_type": "stream",
          "name": "stderr",
          "text": [
            "100%|██████████| 4422102/4422102 [00:01<00:00, 2656324.55it/s]\n"
          ]
        },
        {
          "output_type": "stream",
          "name": "stdout",
          "text": [
            "Extracting data/FashionMNIST/raw/t10k-images-idx3-ubyte.gz to data/FashionMNIST/raw\n",
            "\n",
            "Downloading http://fashion-mnist.s3-website.eu-central-1.amazonaws.com/t10k-labels-idx1-ubyte.gz\n",
            "Downloading http://fashion-mnist.s3-website.eu-central-1.amazonaws.com/t10k-labels-idx1-ubyte.gz to data/FashionMNIST/raw/t10k-labels-idx1-ubyte.gz\n"
          ]
        },
        {
          "output_type": "stream",
          "name": "stderr",
          "text": [
            "100%|██████████| 5148/5148 [00:00<00:00, 21854531.37it/s]"
          ]
        },
        {
          "output_type": "stream",
          "name": "stdout",
          "text": [
            "Extracting data/FashionMNIST/raw/t10k-labels-idx1-ubyte.gz to data/FashionMNIST/raw\n",
            "\n"
          ]
        },
        {
          "output_type": "stream",
          "name": "stderr",
          "text": [
            "\n"
          ]
        }
      ],
      "source": [
        "# Download training data from open datasets.\n",
        "training_data = datasets.FashionMNIST(\n",
        "    root=\"data\",\n",
        "    train=True,\n",
        "    download=True,\n",
        "    transform=ToTensor(),\n",
        ")\n",
        "\n",
        "# Download test data from open datasets.\n",
        "test_data = datasets.FashionMNIST(\n",
        "    root=\"data\",\n",
        "    train=False,\n",
        "    download=True,\n",
        "    transform=ToTensor(),\n",
        ")"
      ]
    },
    {
      "cell_type": "markdown",
      "source": [
        "###Visualizing the Training and Test Data"
      ],
      "metadata": {
        "id": "dKBsaoYQ_0V8"
      }
    },
    {
      "cell_type": "code",
      "source": [
        "import matplotlib.pyplot as plt\n",
        "print(f\"The training data: {training_data}\")\n",
        "print(f\"The shape of each image: {training_data[0][0].shape}\")\n",
        "plt.imshow(training_data[0][0].permute(1,2,0))"
      ],
      "metadata": {
        "id": "BcATua8q9Nn-",
        "outputId": "8fcd8eb9-5308-420e-c70d-5682fd0663c8",
        "colab": {
          "base_uri": "https://localhost:8080/",
          "height": 573
        }
      },
      "execution_count": 4,
      "outputs": [
        {
          "output_type": "stream",
          "name": "stdout",
          "text": [
            "The training data: Dataset FashionMNIST\n",
            "    Number of datapoints: 60000\n",
            "    Root location: data\n",
            "    Split: Train\n",
            "    StandardTransform\n",
            "Transform: ToTensor()\n",
            "The shape of each image: torch.Size([1, 28, 28])\n"
          ]
        },
        {
          "output_type": "execute_result",
          "data": {
            "text/plain": [
              "<matplotlib.image.AxesImage at 0x7fefcaf062c0>"
            ]
          },
          "metadata": {},
          "execution_count": 4
        },
        {
          "output_type": "display_data",
          "data": {
            "text/plain": [
              "<Figure size 640x480 with 1 Axes>"
            ],
            "image/png": "[encoded data removed]"
          },
          "metadata": {}
        }
      ]
    },
    {
      "cell_type": "code",
      "source": [
        "print(f\"Test Dataset: {test_data}\")\n",
        "print(f\"Test data shape: {test_data[0][0].shape}\")\n",
        "plt.imshow(test_data[0][0].permute(1,2,0))"
      ],
      "metadata": {
        "id": "L5gm18n3_-0b",
        "outputId": "8edf828a-79ec-457d-b575-c7c7a49f9973",
        "colab": {
          "base_uri": "https://localhost:8080/",
          "height": 573
        }
      },
      "execution_count": 5,
      "outputs": [
        {
          "output_type": "stream",
          "name": "stdout",
          "text": [
            "Test Dataset: Dataset FashionMNIST\n",
            "    Number of datapoints: 10000\n",
            "    Root location: data\n",
            "    Split: Test\n",
            "    StandardTransform\n",
            "Transform: ToTensor()\n",
            "Test data shape: torch.Size([1, 28, 28])\n"
          ]
        },
        {
          "output_type": "execute_result",
          "data": {
            "text/plain": [
              "<matplotlib.image.AxesImage at 0x7fefcae35e10>"
            ]
          },
          "metadata": {},
          "execution_count": 5
        },
        {
          "output_type": "display_data",
          "data": {
            "text/plain": [
              "<Figure size 640x480 with 1 Axes>"
            ],
            "image/png": "[encoded data removed]"
          },
          "metadata": {}
        }
      ]
    },
    {
      "cell_type": "markdown",
      "metadata": {
        "id": "yyvsqFs45pdQ"
      },
      "source": [
        "We pass the ``Dataset`` as an argument to ``DataLoader``. This wraps an iterable over our dataset, and supports\n",
        "automatic batching, sampling, shuffling and multiprocess data loading. Here we define a batch size of 64, i.e. each element\n",
        "in the dataloader iterable will return a batch of 64 features and labels.\n",
        "\n"
      ]
    },
    {
      "cell_type": "code",
      "execution_count": 6,
      "metadata": {
        "id": "Z_xxTnel5pdQ",
        "outputId": "6d6154de-1f51-47ff-e9f6-58f79e70a9d0",
        "colab": {
          "base_uri": "https://localhost:8080/"
        }
      },
      "outputs": [
        {
          "output_type": "stream",
          "name": "stdout",
          "text": [
            "Shape of X [Batch Size, Colour Channels, Height, Width]: torch.Size([64, 1, 28, 28])\n",
            "Shape of y [Labels]: torch.Size([64]) torch.int64\n",
            "Labels: tensor([9, 2, 1, 1, 6, 1, 4, 6, 5, 7, 4, 5, 7, 3, 4, 1, 2, 4, 8, 0, 2, 5, 7, 9,\n",
            "        1, 4, 6, 0, 9, 3, 8, 8, 3, 3, 8, 0, 7, 5, 7, 9, 6, 1, 3, 7, 6, 7, 2, 1,\n",
            "        2, 2, 4, 4, 5, 8, 2, 2, 8, 4, 8, 0, 7, 7, 8, 5])\n"
          ]
        }
      ],
      "source": [
        "batch_size = 64\n",
        "\n",
        "# Create data loaders.\n",
        "train_dataloader = DataLoader(training_data, batch_size=batch_size)\n",
        "test_dataloader = DataLoader(test_data, batch_size=batch_size)\n",
        "\n",
        "for X, y in test_dataloader:\n",
        "    print(f\"Shape of X [Batch Size, Colour Channels, Height, Width]: {X.shape}\")\n",
        "    print(f\"Shape of y [Labels]: {y.shape} {y.dtype}\")\n",
        "    print(f\"Labels: {y}\")\n",
        "    break"
      ]
    },
    {
      "cell_type": "markdown",
      "metadata": {
        "id": "dWWPob6A5pdQ"
      },
      "source": [
        "Read more about [loading data in PyTorch](data_tutorial.html).\n",
        "\n",
        "\n"
      ]
    },
    {
      "cell_type": "markdown",
      "metadata": {
        "id": "DlQu17zq5pdR"
      },
      "source": [
        "--------------\n",
        "\n",
        "\n"
      ]
    },
    {
      "cell_type": "markdown",
      "metadata": {
        "id": "0teITVl45pdR"
      },
      "source": [
        "## Creating Models\n",
        "To define a neural network in PyTorch, we create a class that inherits\n",
        "from [nn.Module](https://pytorch.org/docs/stable/generated/torch.nn.Module.html). We define the layers of the network\n",
        "in the ``__init__`` function and specify how data will pass through the network in the ``forward`` function. To accelerate\n",
        "operations in the neural network, we move it to the GPU or MPS if available.\n",
        "\n"
      ]
    },
    {
      "cell_type": "code",
      "execution_count": 7,
      "metadata": {
        "id": "zhEYzzXM5pdR",
        "colab": {
          "base_uri": "https://localhost:8080/"
        },
        "outputId": "ac1d0884-4629-488d-a3bb-0ee758cb820b"
      },
      "outputs": [
        {
          "output_type": "stream",
          "name": "stdout",
          "text": [
            "Using cuda device\n",
            "NeuralNetwork(\n",
            "  (flatten): Flatten(start_dim=1, end_dim=-1)\n",
            "  (linear_relu_stack): Sequential(\n",
            "    (0): Linear(in_features=784, out_features=512, bias=True)\n",
            "    (1): ReLU()\n",
            "    (2): Linear(in_features=512, out_features=512, bias=True)\n",
            "    (3): ReLU()\n",
            "    (4): Linear(in_features=512, out_features=10, bias=True)\n",
            "  )\n",
            ")\n"
          ]
        }
      ],
      "source": [
        "# Get cpu, gpu or mps device for training.\n",
        "device = (\n",
        "    \"cuda\"\n",
        "    if torch.cuda.is_available()\n",
        "    else \"mps\"\n",
        "    if torch.backends.mps.is_available()\n",
        "    else \"cpu\"\n",
        ")\n",
        "print(f\"Using {device} device\")\n",
        "\n",
        "# Define model\n",
        "class NeuralNetwork(nn.Module):\n",
        "    def __init__(self):\n",
        "        super().__init__()\n",
        "        self.flatten = nn.Flatten()\n",
        "        self.linear_relu_stack = nn.Sequential(\n",
        "            nn.Linear(28*28, 512),\n",
        "            nn.ReLU(),\n",
        "            nn.Linear(512, 512),\n",
        "            nn.ReLU(),\n",
        "            nn.Linear(512, 10)\n",
        "        )\n",
        "\n",
        "    def forward(self, x):\n",
        "        x = self.flatten(x)\n",
        "        logits = self.linear_relu_stack(x)\n",
        "        return logits\n",
        "\n",
        "model = NeuralNetwork().to(device)\n",
        "print(model)"
      ]
    },
    {
      "cell_type": "markdown",
      "metadata": {
        "id": "0dCzRVu15pdR"
      },
      "source": [
        "Read more about [building neural networks in PyTorch](buildmodel_tutorial.html).\n",
        "\n",
        "\n"
      ]
    },
    {
      "cell_type": "markdown",
      "metadata": {
        "id": "Tui9zeQ45pdR"
      },
      "source": [
        "--------------\n",
        "\n",
        "\n"
      ]
    },
    {
      "cell_type": "markdown",
      "metadata": {
        "id": "uaveQVE45pdS"
      },
      "source": [
        "## Optimizing the Model Parameters\n",
        "To train a model, we need a [loss function](https://pytorch.org/docs/stable/nn.html#loss-functions)\n",
        "and an [optimizer](https://pytorch.org/docs/stable/optim.html).\n",
        "\n"
      ]
    },
    {
      "cell_type": "code",
      "execution_count": 8,
      "metadata": {
        "id": "9E4GbeBu5pdS"
      },
      "outputs": [],
      "source": [
        "loss_fn = nn.CrossEntropyLoss()\n",
        "optimizer = torch.optim.SGD(model.parameters(), lr=1e-3)"
      ]
    },
    {
      "cell_type": "markdown",
      "metadata": {
        "id": "g3J9QwBg5pdS"
      },
      "source": [
        "In a single training loop, the model makes predictions on the training dataset (fed to it in batches), and\n",
        "backpropagates the prediction error to adjust the model's parameters.\n",
        "\n"
      ]
    },
    {
      "cell_type": "code",
      "execution_count": 9,
      "metadata": {
        "id": "iQGn40kU5pdS"
      },
      "outputs": [],
      "source": [
        "def train(dataloader, model, loss_fn, optimizer):\n",
        "    size = len(dataloader.dataset)\n",
        "    model.train()\n",
        "    for batch, (X, y) in enumerate(dataloader):\n",
        "        X, y = X.to(device), y.to(device)\n",
        "\n",
        "        # Compute prediction error\n",
        "        pred = model(X)\n",
        "        loss = loss_fn(pred, y)\n",
        "\n",
        "        # Backpropagation\n",
        "        optimizer.zero_grad()\n",
        "        loss.backward()\n",
        "        optimizer.step()\n",
        "\n",
        "        if batch % 100 == 0:\n",
        "            loss, current = loss.item(), (batch + 1) * len(X)\n",
        "            print(f\"loss: {loss:>7f}  [{current:>5d}/{size:>5d}]\")"
      ]
    },
    {
      "cell_type": "markdown",
      "metadata": {
        "id": "8OypBUey5pdS"
      },
      "source": [
        "We also check the model's performance against the test dataset to ensure it is learning.\n",
        "\n"
      ]
    },
    {
      "cell_type": "code",
      "execution_count": 10,
      "metadata": {
        "id": "ubMAN0eo5pdS"
      },
      "outputs": [],
      "source": [
        "def test(dataloader, model, loss_fn):\n",
        "    size = len(dataloader.dataset)\n",
        "    num_batches = len(dataloader)\n",
        "    model.eval()\n",
        "    test_loss, correct = 0, 0\n",
        "    with torch.no_grad():\n",
        "        for X, y in dataloader:\n",
        "            X, y = X.to(device), y.to(device)\n",
        "            pred = model(X)\n",
        "            test_loss += loss_fn(pred, y).item()\n",
        "            correct += (pred.argmax(1) == y).type(torch.float).sum().item()\n",
        "    test_loss /= num_batches\n",
        "    correct /= size\n",
        "    print(f\"Test Error: \\n Accuracy: {(100*correct):>0.1f}%, Avg loss: {test_loss:>8f} \\n\")"
      ]
    },
    {
      "cell_type": "markdown",
      "metadata": {
        "id": "JQnUIQdI5pdS"
      },
      "source": [
        "The training process is conducted over several iterations (*epochs*). During each epoch, the model learns\n",
        "parameters to make better predictions. We print the model's accuracy and loss at each epoch; we'd like to see the\n",
        "accuracy increase and the loss decrease with every epoch.\n",
        "\n"
      ]
    },
    {
      "cell_type": "code",
      "execution_count": 12,
      "metadata": {
        "id": "fG8rtUc55pdS",
        "colab": {
          "base_uri": "https://localhost:8080/"
        },
        "outputId": "0246f5bf-ca02-490c-ed60-ba1814af359b"
      },
      "outputs": [
        {
          "output_type": "stream",
          "name": "stdout",
          "text": [
            "Epoch 1\n",
            "-------------------------------\n",
            "loss: 1.158253  [   64/60000]\n",
            "loss: 1.161258  [ 6464/60000]\n",
            "loss: 0.975344  [12864/60000]\n",
            "loss: 1.121147  [19264/60000]\n",
            "loss: 0.995959  [25664/60000]\n",
            "loss: 1.011475  [32064/60000]\n",
            "loss: 1.048577  [38464/60000]\n",
            "loss: 0.996634  [44864/60000]\n",
            "loss: 1.034102  [51264/60000]\n",
            "loss: 0.965070  [57664/60000]\n",
            "Test Error: \n",
            " Accuracy: 65.7%, Avg loss: 0.983083 \n",
            "\n",
            "Epoch 2\n",
            "-------------------------------\n",
            "loss: 1.043035  [   64/60000]\n",
            "loss: 1.066150  [ 6464/60000]\n",
            "loss: 0.863994  [12864/60000]\n",
            "loss: 1.034354  [19264/60000]\n",
            "loss: 0.909747  [25664/60000]\n",
            "loss: 0.919277  [32064/60000]\n",
            "loss: 0.974433  [38464/60000]\n",
            "loss: 0.925534  [44864/60000]\n",
            "loss: 0.957032  [51264/60000]\n",
            "loss: 0.900845  [57664/60000]\n",
            "Test Error: \n",
            " Accuracy: 67.0%, Avg loss: 0.912834 \n",
            "\n",
            "Epoch 3\n",
            "-------------------------------\n",
            "loss: 0.957883  [   64/60000]\n",
            "loss: 0.999388  [ 6464/60000]\n",
            "loss: 0.783569  [12864/60000]\n",
            "loss: 0.972631  [19264/60000]\n",
            "loss: 0.851551  [25664/60000]\n",
            "loss: 0.851097  [32064/60000]\n",
            "loss: 0.922262  [38464/60000]\n",
            "loss: 0.877676  [44864/60000]\n",
            "loss: 0.901121  [51264/60000]\n",
            "loss: 0.854062  [57664/60000]\n",
            "Test Error: \n",
            " Accuracy: 68.1%, Avg loss: 0.861740 \n",
            "\n",
            "Epoch 4\n",
            "-------------------------------\n",
            "loss: 0.891628  [   64/60000]\n",
            "loss: 0.948644  [ 6464/60000]\n",
            "loss: 0.722905  [12864/60000]\n",
            "loss: 0.926061  [19264/60000]\n",
            "loss: 0.809374  [25664/60000]\n",
            "loss: 0.799256  [32064/60000]\n",
            "loss: 0.882609  [38464/60000]\n",
            "loss: 0.844086  [44864/60000]\n",
            "loss: 0.859032  [51264/60000]\n",
            "loss: 0.817793  [57664/60000]\n",
            "Test Error: \n",
            " Accuracy: 69.3%, Avg loss: 0.822745 \n",
            "\n",
            "Epoch 5\n",
            "-------------------------------\n",
            "loss: 0.838099  [   64/60000]\n",
            "loss: 0.907465  [ 6464/60000]\n",
            "loss: 0.675476  [12864/60000]\n",
            "loss: 0.889671  [19264/60000]\n",
            "loss: 0.777219  [25664/60000]\n",
            "loss: 0.759271  [32064/60000]\n",
            "loss: 0.850377  [38464/60000]\n",
            "loss: 0.819177  [44864/60000]\n",
            "loss: 0.826118  [51264/60000]\n",
            "loss: 0.788421  [57664/60000]\n",
            "Test Error: \n",
            " Accuracy: 70.6%, Avg loss: 0.791520 \n",
            "\n",
            "Epoch 6\n",
            "-------------------------------\n",
            "loss: 0.793473  [   64/60000]\n",
            "loss: 0.872250  [ 6464/60000]\n",
            "loss: 0.637017  [12864/60000]\n",
            "loss: 0.860324  [19264/60000]\n",
            "loss: 0.751232  [25664/60000]\n",
            "loss: 0.727941  [32064/60000]\n",
            "loss: 0.822683  [38464/60000]\n",
            "loss: 0.799444  [44864/60000]\n",
            "loss: 0.799296  [51264/60000]\n",
            "loss: 0.763615  [57664/60000]\n",
            "Test Error: \n",
            " Accuracy: 71.8%, Avg loss: 0.765416 \n",
            "\n",
            "Epoch 7\n",
            "-------------------------------\n",
            "loss: 0.755073  [   64/60000]\n",
            "loss: 0.841005  [ 6464/60000]\n",
            "loss: 0.604999  [12864/60000]\n",
            "loss: 0.835894  [19264/60000]\n",
            "loss: 0.729339  [25664/60000]\n",
            "loss: 0.702737  [32064/60000]\n",
            "loss: 0.798078  [38464/60000]\n",
            "loss: 0.782907  [44864/60000]\n",
            "loss: 0.776785  [51264/60000]\n",
            "loss: 0.742083  [57664/60000]\n",
            "Test Error: \n",
            " Accuracy: 72.9%, Avg loss: 0.742829 \n",
            "\n",
            "Epoch 8\n",
            "-------------------------------\n",
            "loss: 0.721310  [   64/60000]\n",
            "loss: 0.812837  [ 6464/60000]\n",
            "loss: 0.577635  [12864/60000]\n",
            "loss: 0.814957  [19264/60000]\n",
            "loss: 0.710373  [25664/60000]\n",
            "loss: 0.681970  [32064/60000]\n",
            "loss: 0.775485  [38464/60000]\n",
            "loss: 0.768224  [44864/60000]\n",
            "loss: 0.757252  [51264/60000]\n",
            "loss: 0.722613  [57664/60000]\n",
            "Test Error: \n",
            " Accuracy: 74.0%, Avg loss: 0.722723 \n",
            "\n",
            "Epoch 9\n",
            "-------------------------------\n",
            "loss: 0.691224  [   64/60000]\n",
            "loss: 0.787104  [ 6464/60000]\n",
            "loss: 0.553768  [12864/60000]\n",
            "loss: 0.796671  [19264/60000]\n",
            "loss: 0.693603  [25664/60000]\n",
            "loss: 0.664488  [32064/60000]\n",
            "loss: 0.754409  [38464/60000]\n",
            "loss: 0.754935  [44864/60000]\n",
            "loss: 0.740254  [51264/60000]\n",
            "loss: 0.704834  [57664/60000]\n",
            "Test Error: \n",
            " Accuracy: 75.0%, Avg loss: 0.704483 \n",
            "\n",
            "Epoch 10\n",
            "-------------------------------\n",
            "loss: 0.664129  [   64/60000]\n",
            "loss: 0.763502  [ 6464/60000]\n",
            "loss: 0.532674  [12864/60000]\n",
            "loss: 0.780443  [19264/60000]\n",
            "loss: 0.678673  [25664/60000]\n",
            "loss: 0.649513  [32064/60000]\n",
            "loss: 0.734631  [38464/60000]\n",
            "loss: 0.742678  [44864/60000]\n",
            "loss: 0.725148  [51264/60000]\n",
            "loss: 0.688365  [57664/60000]\n",
            "Test Error: \n",
            " Accuracy: 75.8%, Avg loss: 0.687748 \n",
            "\n",
            "Done!\n"
          ]
        }
      ],
      "source": [
        "epochs = 10\n",
        "for t in range(epochs):\n",
        "    print(f\"Epoch {t+1}\\n-------------------------------\")\n",
        "    train(train_dataloader, model, loss_fn, optimizer)\n",
        "    test(test_dataloader, model, loss_fn)\n",
        "print(\"Done!\")"
      ]
    },
    {
      "cell_type": "markdown",
      "metadata": {
        "id": "hLx2Z9v15pdT"
      },
      "source": [
        "Read more about [Training your model](optimization_tutorial.html).\n",
        "\n",
        "\n"
      ]
    },
    {
      "cell_type": "markdown",
      "metadata": {
        "id": "g7FyD6FV5pdT"
      },
      "source": [
        "--------------\n",
        "\n",
        "\n"
      ]
    },
    {
      "cell_type": "markdown",
      "metadata": {
        "id": "mp05yKHL5pdT"
      },
      "source": [
        "## Saving Models\n",
        "A common way to save a model is to serialize the internal state dictionary (containing the model parameters).\n",
        "\n"
      ]
    },
    {
      "cell_type": "code",
      "execution_count": 13,
      "metadata": {
        "id": "-PixbRO05pdT",
        "colab": {
          "base_uri": "https://localhost:8080/"
        },
        "outputId": "d7d0aa8b-e6b7-467a-98cd-86bed8bea859"
      },
      "outputs": [
        {
          "output_type": "stream",
          "name": "stdout",
          "text": [
            "Saved PyTorch Model State to model.pth\n"
          ]
        }
      ],
      "source": [
        "torch.save(model.state_dict(), \"model.pth\")\n",
        "print(\"Saved PyTorch Model State to model.pth\")"
      ]
    },
    {
      "cell_type": "markdown",
      "metadata": {
        "id": "OuVgFk3S5pdT"
      },
      "source": [
        "## Loading Models\n",
        "\n",
        "The process for loading a model includes re-creating the model structure and loading\n",
        "the state dictionary into it.\n",
        "\n"
      ]
    },
    {
      "cell_type": "code",
      "execution_count": 14,
      "metadata": {
        "id": "-Irxwsj35pdT",
        "colab": {
          "base_uri": "https://localhost:8080/"
        },
        "outputId": "b9b2a6f6-6bc3-4f94-f208-7d95a4d378ce"
      },
      "outputs": [
        {
          "output_type": "execute_result",
          "data": {
            "text/plain": [
              "<All keys matched successfully>"
            ]
          },
          "metadata": {},
          "execution_count": 14
        }
      ],
      "source": [
        "model = NeuralNetwork().to(device)\n",
        "model.load_state_dict(torch.load(\"model.pth\"))"
      ]
    },
    {
      "cell_type": "markdown",
      "metadata": {
        "id": "hhu7xXK-5pdT"
      },
      "source": [
        "This model can now be used to make predictions.\n",
        "\n"
      ]
    },
    {
      "cell_type": "code",
      "execution_count": 23,
      "metadata": {
        "id": "S9YDtPFf5pdT",
        "colab": {
          "base_uri": "https://localhost:8080/",
          "height": 689
        },
        "outputId": "5bbd0bec-46b7-4540-b252-051c885875a1"
      },
      "outputs": [
        {
          "output_type": "stream",
          "name": "stdout",
          "text": [
            "Predicted: \"Ankle boot\", Actual: \"Ankle boot\"\n",
            "Predicted: \"Pullover\", Actual: \"Pullover\"\n",
            "Predicted: \"Trouser\", Actual: \"Trouser\"\n",
            "Predicted: \"Trouser\", Actual: \"Trouser\"\n",
            "Total correct predictions: 4\n",
            "Percent of correct pred: 100.0\n"
          ]
        },
        {
          "output_type": "display_data",
          "data": {
            "text/plain": [
              "<Figure size 1000x700 with 4 Axes>"
            ],
            "image/png": "[encoded data removed]"
          },
          "metadata": {}
        }
      ],
      "source": [
        "classes = [\n",
        "    \"T-shirt/top\",\n",
        "    \"Trouser\",\n",
        "    \"Pullover\",\n",
        "    \"Dress\",\n",
        "    \"Coat\",\n",
        "    \"Sandal\",\n",
        "    \"Shirt\",\n",
        "    \"Sneaker\",\n",
        "    \"Bag\",\n",
        "    \"Ankle boot\",\n",
        "]\n",
        "\n",
        "model.eval()\n",
        "correct_pred = 0\n",
        "fig = plt.figure(figsize=(10, 7))\n",
        "for i in range(4):\n",
        "  x, y = test_data[i][0], test_data[i][1]\n",
        "  with torch.no_grad():\n",
        "      x = x.to(device)\n",
        "      pred = model(x)\n",
        "      predicted, actual = classes[pred[0].argmax(0)], classes[y]\n",
        "      if predicted==actual:\n",
        "        correct_pred += 1\n",
        "      print(f'Predicted: \"{predicted}\", Actual: \"{actual}\"')\n",
        "      fig.add_subplot(2, 2, i+1)\n",
        "      plt.imshow(test_data[i][0].permute(1,2,0))\n",
        "      plt.title(f\"Pred: {predicted} Actual: {actual}\")\n",
        "print(f\"Total correct predictions: {correct_pred}\")\n",
        "print(f\"Percent of correct pred: {(correct_pred/(i+1))*100}\")"
      ]
    },
    {
      "cell_type": "markdown",
      "metadata": {
        "id": "Xo38bQBU5pdT"
      },
      "source": [
        "Read more about [Saving & Loading your model](saveloadrun_tutorial.html).\n",
        "\n",
        "\n"
      ]
    }
  ],
  "metadata": {
    "kernelspec": {
      "display_name": "Python 3",
      "language": "python",
      "name": "python3"
    },
    "language_info": {
      "codemirror_mode": {
        "name": "ipython",
        "version": 3
      },
      "file_extension": ".py",
      "mimetype": "text/x-python",
      "name": "python",
      "nbconvert_exporter": "python",
      "pygments_lexer": "ipython3",
      "version": "3.10.10"
    },
    "colab": {
      "provenance": [],
      "gpuType": "T4",
      "include_colab_link": true
    },
    "accelerator": "GPU",
    "gpuClass": "standard"
  },
  "nbformat": 4,
  "nbformat_minor": 0
}