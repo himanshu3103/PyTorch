{
  "nbformat": 4,
  "nbformat_minor": 0,
  "metadata": {
    "colab": {
      "provenance": [],
      "authorship_tag": "ABX9TyNOGLlLYPJZmUgprCx330O0",
      "include_colab_link": true
    },
    "kernelspec": {
      "name": "python3",
      "display_name": "Python 3"
    },
    "language_info": {
      "name": "python"
    }
  },
  "cells": [
    {
      "cell_type": "markdown",
      "metadata": {
        "id": "view-in-github",
        "colab_type": "text"
      },
      "source": [
        "<a href=\"https://colab.research.google.com/github/himanshu3103/PyTorch/blob/main/08_Linear_Classification.ipynb\" target=\"_parent\"><img src=\"https://colab.research.google.com/assets/colab-badge.svg\" alt=\"Open In Colab\"/></a>"
      ]
    },
    {
      "cell_type": "markdown",
      "source": [
        "#Linear Classification\n",
        "## Resources : \n",
        "  * [Sklearn Breast Cancer Dataset](https://scikit-learn.org/stable/modules/generated/sklearn.datasets.load_breast_cancer.html)\n",
        "  * [Sklearn Bunch (Dictionary)](https://scikit-learn.org/stable/modules/generated/sklearn.utils.Bunch.html)\n",
        "  * [Sklearn Train Test Split](https://scikit-learn.org/stable/modules/generated/sklearn.model_selection.train_test_split.html)\n",
        "  * [Sklearn Standard Scaler](https://scikit-learn.org/stable/modules/generated/sklearn.preprocessing.StandardScaler.html)\n",
        "  * [Binary Cross Entropy Loss](https://pytorch.org/docs/stable/generated/torch.nn.BCELoss.html#bceloss)\n",
        "  * [Adam Optimizer](https://pytorch.org/docs/stable/generated/torch.optim.Adam.html#adam)"
      ],
      "metadata": {
        "id": "auOVgUuNNNap"
      }
    },
    {
      "cell_type": "markdown",
      "source": [
        "##Loading and Prepocessing the data"
      ],
      "metadata": {
        "id": "sNqFjIzNNRIx"
      }
    },
    {
      "cell_type": "code",
      "execution_count": 1,
      "metadata": {
        "id": "_96-_1amC9ip"
      },
      "outputs": [],
      "source": [
        "#Importing all the required libraries\n",
        "import numpy as np\n",
        "import torch\n",
        "import torch.nn as nn\n",
        "import matplotlib.pyplot as plt"
      ]
    },
    {
      "cell_type": "code",
      "source": [
        "#Loading the dataset Sklearn\n",
        "from sklearn.datasets import load_breast_cancer "
      ],
      "metadata": {
        "id": "0Bk8N5A5MoVD"
      },
      "execution_count": 65,
      "outputs": []
    },
    {
      "cell_type": "code",
      "source": [
        "data = load_breast_cancer()\n",
        "type(data)"
      ],
      "metadata": {
        "colab": {
          "base_uri": "https://localhost:8080/"
        },
        "id": "cIkzDEgXMzGx",
        "outputId": "ed5e45bf-8268-428c-a0b7-ed9089d3e757"
      },
      "execution_count": 66,
      "outputs": [
        {
          "output_type": "execute_result",
          "data": {
            "text/plain": [
              "sklearn.utils._bunch.Bunch"
            ]
          },
          "metadata": {},
          "execution_count": 66
        }
      ]
    },
    {
      "cell_type": "code",
      "source": [
        "data.keys()"
      ],
      "metadata": {
        "colab": {
          "base_uri": "https://localhost:8080/"
        },
        "id": "RuK-jAAzM5Cp",
        "outputId": "180a931b-1130-4d01-a780-ef7c43f4c5a1"
      },
      "execution_count": 27,
      "outputs": [
        {
          "output_type": "execute_result",
          "data": {
            "text/plain": [
              "dict_keys(['data', 'target', 'frame', 'target_names', 'DESCR', 'feature_names', 'filename', 'data_module'])"
            ]
          },
          "metadata": {},
          "execution_count": 27
        }
      ]
    },
    {
      "cell_type": "code",
      "source": [
        "#Target data shape\n",
        "data['target'].shape"
      ],
      "metadata": {
        "colab": {
          "base_uri": "https://localhost:8080/"
        },
        "id": "p2ZhrVTWNB9m",
        "outputId": "78851382-1dbf-48cd-e0ad-e9e606561fef"
      },
      "execution_count": 28,
      "outputs": [
        {
          "output_type": "execute_result",
          "data": {
            "text/plain": [
              "(569,)"
            ]
          },
          "metadata": {},
          "execution_count": 28
        }
      ]
    },
    {
      "cell_type": "code",
      "source": [
        "#Input data shape\n",
        "data['data'].shape"
      ],
      "metadata": {
        "colab": {
          "base_uri": "https://localhost:8080/"
        },
        "id": "LAaCMCjuN5X6",
        "outputId": "84652674-9f81-4e51-afe3-2592b47cb726"
      },
      "execution_count": 29,
      "outputs": [
        {
          "output_type": "execute_result",
          "data": {
            "text/plain": [
              "(569, 30)"
            ]
          },
          "metadata": {},
          "execution_count": 29
        }
      ]
    },
    {
      "cell_type": "code",
      "source": [
        "data['target_names']"
      ],
      "metadata": {
        "colab": {
          "base_uri": "https://localhost:8080/"
        },
        "id": "06rxuQECOJNn",
        "outputId": "ad7b4dca-01b4-48b6-f5a3-56d142147a32"
      },
      "execution_count": 30,
      "outputs": [
        {
          "output_type": "execute_result",
          "data": {
            "text/plain": [
              "array(['malignant', 'benign'], dtype='<U9')"
            ]
          },
          "metadata": {},
          "execution_count": 30
        }
      ]
    },
    {
      "cell_type": "code",
      "source": [
        "data['feature_names'], data['feature_names'].shape"
      ],
      "metadata": {
        "colab": {
          "base_uri": "https://localhost:8080/"
        },
        "id": "IiL8pthMORIX",
        "outputId": "a18a52a5-4e4f-4720-c428-0e81e7c65cd1"
      },
      "execution_count": 31,
      "outputs": [
        {
          "output_type": "execute_result",
          "data": {
            "text/plain": [
              "(array(['mean radius', 'mean texture', 'mean perimeter', 'mean area',\n",
              "        'mean smoothness', 'mean compactness', 'mean concavity',\n",
              "        'mean concave points', 'mean symmetry', 'mean fractal dimension',\n",
              "        'radius error', 'texture error', 'perimeter error', 'area error',\n",
              "        'smoothness error', 'compactness error', 'concavity error',\n",
              "        'concave points error', 'symmetry error',\n",
              "        'fractal dimension error', 'worst radius', 'worst texture',\n",
              "        'worst perimeter', 'worst area', 'worst smoothness',\n",
              "        'worst compactness', 'worst concavity', 'worst concave points',\n",
              "        'worst symmetry', 'worst fractal dimension'], dtype='<U23'),\n",
              " (30,))"
            ]
          },
          "metadata": {},
          "execution_count": 31
        }
      ]
    },
    {
      "cell_type": "markdown",
      "source": [
        "### Splitting the data into train and test "
      ],
      "metadata": {
        "id": "wVQIoyCpQbbG"
      }
    },
    {
      "cell_type": "code",
      "source": [
        "from sklearn.model_selection import train_test_split"
      ],
      "metadata": {
        "id": "TwkjO_7bOT6C"
      },
      "execution_count": 32,
      "outputs": []
    },
    {
      "cell_type": "markdown",
      "source": [],
      "metadata": {
        "id": "_L47Yr5AkBgl"
      }
    },
    {
      "cell_type": "code",
      "source": [
        "X_train, X_test, y_train, y_test = train_test_split(data.data, data.target, test_size=0.33, random_state=42)"
      ],
      "metadata": {
        "id": "HFrS1yMPPZGe"
      },
      "execution_count": 67,
      "outputs": []
    },
    {
      "cell_type": "code",
      "source": [
        "X_train.shape, X_test.shape, y_train.shape, y_test.shape"
      ],
      "metadata": {
        "colab": {
          "base_uri": "https://localhost:8080/"
        },
        "id": "fwhXI8ngQaIC",
        "outputId": "e401c0f1-d606-42bd-c16b-82f0d0ec8a2e"
      },
      "execution_count": 68,
      "outputs": [
        {
          "output_type": "execute_result",
          "data": {
            "text/plain": [
              "((381, 30), (188, 30), (381,), (188,))"
            ]
          },
          "metadata": {},
          "execution_count": 68
        }
      ]
    },
    {
      "cell_type": "code",
      "source": [
        "N,D = X_train.shape"
      ],
      "metadata": {
        "id": "vFt1PkjJc16n"
      },
      "execution_count": 69,
      "outputs": []
    },
    {
      "cell_type": "code",
      "source": [
        "plt.scatter(X_train[0],X_train[1])\n",
        "plt.xlabel(\"mean radius\")\n",
        "plt.ylabel(\"mean texture\")"
      ],
      "metadata": {
        "colab": {
          "base_uri": "https://localhost:8080/",
          "height": 467
        },
        "id": "4s9CHJHjdaFu",
        "outputId": "f9321755-6962-41f0-a8e7-3fb2865e3981"
      },
      "execution_count": 36,
      "outputs": [
        {
          "output_type": "execute_result",
          "data": {
            "text/plain": [
              "Text(0, 0.5, 'mean texture')"
            ]
          },
          "metadata": {},
          "execution_count": 36
        },
        {
          "output_type": "display_data",
          "data": {
            "text/plain": [
              "<Figure size 640x480 with 1 Axes>"
            ],
            "image/png": "[encoded data removed]"
          },
          "metadata": {}
        }
      ]
    },
    {
      "cell_type": "markdown",
      "source": [
        "### Normalizing the data"
      ],
      "metadata": {
        "id": "Bor_qwXiQrzx"
      }
    },
    {
      "cell_type": "code",
      "source": [
        "from sklearn.preprocessing import StandardScaler"
      ],
      "metadata": {
        "id": "8vUuVzn8Qn5S"
      },
      "execution_count": 37,
      "outputs": []
    },
    {
      "cell_type": "code",
      "source": [
        "scaler = StandardScaler()\n",
        "X_train = scaler.fit_transform(X_train)\n",
        "X_test = scaler.transform(X_test)"
      ],
      "metadata": {
        "id": "WlzF3tZrRVYl"
      },
      "execution_count": 70,
      "outputs": []
    },
    {
      "cell_type": "code",
      "source": [
        "plt.scatter(X_train[0],X_train[1])\n",
        "plt.xlabel(\"mean radius\")\n",
        "plt.ylabel(\"mean texture\")"
      ],
      "metadata": {
        "colab": {
          "base_uri": "https://localhost:8080/",
          "height": 467
        },
        "id": "jQzfiQ4Vdvzn",
        "outputId": "4bd62f88-101e-46d3-a193-396dae3d008a"
      },
      "execution_count": 39,
      "outputs": [
        {
          "output_type": "execute_result",
          "data": {
            "text/plain": [
              "Text(0, 0.5, 'mean texture')"
            ]
          },
          "metadata": {},
          "execution_count": 39
        },
        {
          "output_type": "display_data",
          "data": {
            "text/plain": [
              "<Figure size 640x480 with 1 Axes>"
            ],
            "image/png": "[encoded data removed]"
          },
          "metadata": {}
        }
      ]
    },
    {
      "cell_type": "markdown",
      "source": [
        "### Creating Model"
      ],
      "metadata": {
        "id": "z4s28cL-SNdo"
      }
    },
    {
      "cell_type": "code",
      "source": [
        "model = nn.Sequential(\n",
        "    nn.Linear(D,1),\n",
        "    nn.Sigmoid()\n",
        ")"
      ],
      "metadata": {
        "id": "JQNGLHbMcqYt"
      },
      "execution_count": 71,
      "outputs": []
    },
    {
      "cell_type": "code",
      "source": [
        "#Loss - BCE\n",
        "loss_fn = nn.BCELoss()\n",
        "#Optimizer - Adam\n",
        "optimizer = torch.optim.Adam(params=model.parameters())"
      ],
      "metadata": {
        "id": "rDrqy9yhcqQq"
      },
      "execution_count": 72,
      "outputs": []
    },
    {
      "cell_type": "code",
      "source": [
        "X_inputs = torch.from_numpy(X_train.astype(np.float32))\n",
        "X_inputs_test = torch.from_numpy(X_test.astype(np.float32))\n",
        "y_targets = torch.from_numpy(y_train.astype(np.float32))\n",
        "y_targets_test = torch.from_numpy(y_test.astype(np.float32))"
      ],
      "metadata": {
        "id": "Rnv2d7_qcqNZ"
      },
      "execution_count": 73,
      "outputs": []
    },
    {
      "cell_type": "code",
      "source": [
        "y_targets = y_targets.reshape(-1,1)\n",
        "y_targets_test = y_targets_test.reshape(-1,1)\n",
        "y_targets_test.shape"
      ],
      "metadata": {
        "colab": {
          "base_uri": "https://localhost:8080/"
        },
        "id": "b8e1dt15iwOH",
        "outputId": "cb881d5c-ef28-4493-8729-b11713345551"
      },
      "execution_count": 74,
      "outputs": [
        {
          "output_type": "execute_result",
          "data": {
            "text/plain": [
              "torch.Size([188, 1])"
            ]
          },
          "metadata": {},
          "execution_count": 74
        }
      ]
    },
    {
      "cell_type": "code",
      "source": [
        "model.state_dict()"
      ],
      "metadata": {
        "colab": {
          "base_uri": "https://localhost:8080/"
        },
        "id": "AYmIThmyjqoa",
        "outputId": "fd14c4a7-5b01-400e-d5f3-fa5c981bf365"
      },
      "execution_count": 75,
      "outputs": [
        {
          "output_type": "execute_result",
          "data": {
            "text/plain": [
              "OrderedDict([('0.weight',\n",
              "              tensor([[ 0.0010,  0.1111, -0.1759, -0.0043, -0.1544,  0.1116,  0.0043,  0.0167,\n",
              "                        0.1093,  0.1453, -0.1680,  0.1248, -0.0569, -0.0715, -0.0808,  0.0726,\n",
              "                       -0.1763, -0.0064, -0.1374,  0.0205,  0.0996,  0.0434, -0.1771, -0.0400,\n",
              "                        0.0692,  0.0772, -0.1140, -0.0590, -0.0588,  0.0764]])),\n",
              "             ('0.bias', tensor([0.1801]))])"
            ]
          },
          "metadata": {},
          "execution_count": 75
        }
      ]
    },
    {
      "cell_type": "markdown",
      "source": [
        "### Training Model"
      ],
      "metadata": {
        "id": "VptG447ufUjh"
      }
    },
    {
      "cell_type": "code",
      "source": [
        "epochs = 1500\n",
        "train_losses = []\n",
        "test_losses = []\n",
        "train_accuracy = []\n",
        "test_accuracy = []\n",
        "for epoch in range(epochs):\n",
        "  ## training mode\n",
        "  model.train()\n",
        "  #1.\n",
        "  optimizer.zero_grad()\n",
        "  #2.\n",
        "  y_pred = model(X_inputs)\n",
        "  #3.\n",
        "  loss = loss_fn(y_pred,y_targets)\n",
        "  train_losses.append(loss.item())\n",
        "  #4. \n",
        "  loss.backward()\n",
        "  optimizer.step()\n",
        "\n",
        "  ##Testing mode\n",
        "  model.eval()\n",
        "  #1.\n",
        "  y_pred_test = model(X_inputs_test)\n",
        "  #2.\n",
        "  loss_test = loss_fn(y_pred_test,y_targets_test)\n",
        "  test_losses.append(loss_test.item())\n",
        "  \n",
        "  ## Storing test and training accuracy\n",
        "  y_pred_train = np.round(y_pred.detach().numpy())\n",
        "  y_pred_test = np.round(y_pred_test.detach().numpy())\n",
        "  acc_train = np.mean(y_pred_train==y_targets.detach().numpy())\n",
        "  acc_test = np.mean(y_pred_test==y_targets_test.detach().numpy())\n",
        "  train_accuracy.append(acc_train)\n",
        "  test_accuracy.append(acc_test)\n",
        "\n",
        "  if epoch%50==0:\n",
        "    print(f\"Epoch {epoch+1}/{epochs} | Train Loss : {loss} | Test Loss : {loss_test} | Train Acc : {(acc_train*100):.4f} | Test Acc : {(acc_test*100):.4f}\")"
      ],
      "metadata": {
        "colab": {
          "base_uri": "https://localhost:8080/"
        },
        "id": "PzbJJ9iNcqJ7",
        "outputId": "09e7c607-5fff-40cd-8a7c-ccc1a7bde6ff"
      },
      "execution_count": 77,
      "outputs": [
        {
          "output_type": "stream",
          "name": "stdout",
          "text": [
            "Epoch 1/1500 | Train Loss : 0.5622485876083374 | Test Loss : 0.563847005367279 | Train Acc : 82.1522 | Test Acc : 76.5957\n",
            "Epoch 51/1500 | Train Loss : 0.37078657746315 | Test Loss : 0.37230852246284485 | Train Acc : 91.8635 | Test Acc : 90.9574\n",
            "Epoch 101/1500 | Train Loss : 0.2828517556190491 | Test Loss : 0.2851070761680603 | Train Acc : 93.4383 | Test Acc : 94.6809\n",
            "Epoch 151/1500 | Train Loss : 0.23360246419906616 | Test Loss : 0.23545199632644653 | Train Acc : 94.4882 | Test Acc : 95.2128\n",
            "Epoch 201/1500 | Train Loss : 0.20188409090042114 | Test Loss : 0.20281769335269928 | Train Acc : 95.8005 | Test Acc : 95.7447\n",
            "Epoch 251/1500 | Train Loss : 0.17977577447891235 | Test Loss : 0.17961710691452026 | Train Acc : 95.8005 | Test Acc : 96.8085\n",
            "Epoch 301/1500 | Train Loss : 0.16356168687343597 | Test Loss : 0.16230864822864532 | Train Acc : 96.5879 | Test Acc : 96.8085\n",
            "Epoch 351/1500 | Train Loss : 0.151187464594841 | Test Loss : 0.14891478419303894 | Train Acc : 96.8504 | Test Acc : 96.8085\n",
            "Epoch 401/1500 | Train Loss : 0.14142440259456635 | Test Loss : 0.13822948932647705 | Train Acc : 97.3753 | Test Acc : 96.8085\n",
            "Epoch 451/1500 | Train Loss : 0.13350477814674377 | Test Loss : 0.1294867843389511 | Train Acc : 97.3753 | Test Acc : 96.8085\n",
            "Epoch 501/1500 | Train Loss : 0.12693092226982117 | Test Loss : 0.12218334525823593 | Train Acc : 97.6378 | Test Acc : 97.3404\n",
            "Epoch 551/1500 | Train Loss : 0.12136898189783096 | Test Loss : 0.1159771978855133 | Train Acc : 98.1627 | Test Acc : 97.3404\n",
            "Epoch 601/1500 | Train Loss : 0.11658766120672226 | Test Loss : 0.1106286272406578 | Train Acc : 98.1627 | Test Acc : 97.3404\n",
            "Epoch 651/1500 | Train Loss : 0.11242204904556274 | Test Loss : 0.10596472024917603 | Train Acc : 97.9003 | Test Acc : 97.8723\n",
            "Epoch 701/1500 | Train Loss : 0.10875160992145538 | Test Loss : 0.10185760259628296 | Train Acc : 97.9003 | Test Acc : 97.8723\n",
            "Epoch 751/1500 | Train Loss : 0.10548605769872665 | Test Loss : 0.09821058064699173 | Train Acc : 97.9003 | Test Acc : 97.8723\n",
            "Epoch 801/1500 | Train Loss : 0.10255646705627441 | Test Loss : 0.09494904428720474 | Train Acc : 97.9003 | Test Acc : 98.4043\n",
            "Epoch 851/1500 | Train Loss : 0.09990926086902618 | Test Loss : 0.09201445430517197 | Train Acc : 97.9003 | Test Acc : 98.4043\n",
            "Epoch 901/1500 | Train Loss : 0.09750205278396606 | Test Loss : 0.08936015516519547 | Train Acc : 97.9003 | Test Acc : 98.4043\n",
            "Epoch 951/1500 | Train Loss : 0.09530086815357208 | Test Loss : 0.08694840222597122 | Train Acc : 97.9003 | Test Acc : 98.9362\n",
            "Epoch 1001/1500 | Train Loss : 0.09327808767557144 | Test Loss : 0.08474837988615036 | Train Acc : 98.1627 | Test Acc : 98.9362\n",
            "Epoch 1051/1500 | Train Loss : 0.0914110466837883 | Test Loss : 0.08273456990718842 | Train Acc : 98.4252 | Test Acc : 98.9362\n",
            "Epoch 1101/1500 | Train Loss : 0.08968088775873184 | Test Loss : 0.08088567107915878 | Train Acc : 98.4252 | Test Acc : 98.9362\n",
            "Epoch 1151/1500 | Train Loss : 0.08807177096605301 | Test Loss : 0.07918377965688705 | Train Acc : 98.4252 | Test Acc : 98.9362\n",
            "Epoch 1201/1500 | Train Loss : 0.08657032251358032 | Test Loss : 0.07761366665363312 | Train Acc : 98.4252 | Test Acc : 98.9362\n",
            "Epoch 1251/1500 | Train Loss : 0.08516513556241989 | Test Loss : 0.07616239041090012 | Train Acc : 98.4252 | Test Acc : 98.9362\n",
            "Epoch 1301/1500 | Train Loss : 0.08384642750024796 | Test Loss : 0.07481877505779266 | Train Acc : 98.4252 | Test Acc : 98.9362\n",
            "Epoch 1351/1500 | Train Loss : 0.08260571956634521 | Test Loss : 0.07357321679592133 | Train Acc : 98.4252 | Test Acc : 98.9362\n",
            "Epoch 1401/1500 | Train Loss : 0.08143561333417892 | Test Loss : 0.07241737842559814 | Train Acc : 98.4252 | Test Acc : 98.9362\n",
            "Epoch 1451/1500 | Train Loss : 0.08032970130443573 | Test Loss : 0.07134401798248291 | Train Acc : 98.4252 | Test Acc : 98.9362\n"
          ]
        }
      ]
    },
    {
      "cell_type": "code",
      "source": [
        "plt.plot(train_losses,label=\"training loss\")\n",
        "plt.plot(test_losses,label=\"test loss\")\n",
        "plt.legend()\n",
        "plt.show()"
      ],
      "metadata": {
        "colab": {
          "base_uri": "https://localhost:8080/",
          "height": 430
        },
        "id": "Xe3NjEcXcqHT",
        "outputId": "59ce93b8-32a1-4cf7-bb2a-3ab7287b5b70"
      },
      "execution_count": 78,
      "outputs": [
        {
          "output_type": "display_data",
          "data": {
            "text/plain": [
              "<Figure size 640x480 with 1 Axes>"
            ],
            "image/png": "[encoded data removed]"
          },
          "metadata": {}
        }
      ]
    },
    {
      "cell_type": "code",
      "source": [
        "plt.plot(train_accuracy,label=\"training accuracy\")\n",
        "plt.plot(test_accuracy,label=\"test accuracy\")\n",
        "plt.legend()\n",
        "plt.show()"
      ],
      "metadata": {
        "colab": {
          "base_uri": "https://localhost:8080/",
          "height": 435
        },
        "id": "slrhaXA_yg-z",
        "outputId": "09e67653-0af4-437b-ce79-b01bf9500a2b"
      },
      "execution_count": 79,
      "outputs": [
        {
          "output_type": "display_data",
          "data": {
            "text/plain": [
              "<Figure size 640x480 with 1 Axes>"
            ],
            "image/png": "[encoded data removed]"
          },
          "metadata": {}
        }
      ]
    },
    {
      "cell_type": "markdown",
      "source": [
        "### Calculating the accuracy"
      ],
      "metadata": {
        "id": "0QszsfGHkhsw"
      }
    },
    {
      "cell_type": "code",
      "source": [
        "with torch.inference_mode():\n",
        "  #Training accuracy\n",
        "  pred_train = model(X_inputs).numpy()\n",
        "  pred_train = np.round(pred_train)\n",
        "  train_acc = np.mean(y_targets.numpy()==pred_train)\n",
        "  #Test accuracy\n",
        "  pred_test = model(X_inputs_test).numpy()\n",
        "  pred_test = np.round(pred_test)\n",
        "  test_acc = np.mean(y_targets_test.numpy()==pred_test)\n",
        "print(f\"Train accuracy: {train_acc:.4f} | Test accuracy: {test_acc:.4f}\")"
      ],
      "metadata": {
        "colab": {
          "base_uri": "https://localhost:8080/"
        },
        "id": "LYgiAB8ecqEf",
        "outputId": "298845f2-1525-49c3-fd4c-26277a375d7f"
      },
      "execution_count": 80,
      "outputs": [
        {
          "output_type": "stream",
          "name": "stdout",
          "text": [
            "Train accuracy: 0.9843 | Test accuracy: 0.9894\n"
          ]
        }
      ]
    },
    {
      "cell_type": "markdown",
      "source": [
        "## Saving and Loading Model"
      ],
      "metadata": {
        "id": "yCJZs6GP3p89"
      }
    },
    {
      "cell_type": "code",
      "source": [
        "model.state_dict()"
      ],
      "metadata": {
        "colab": {
          "base_uri": "https://localhost:8080/"
        },
        "id": "s5KT3GlhcqBd",
        "outputId": "e948c835-8dbe-43f3-e92a-d07f06b2005b"
      },
      "execution_count": 81,
      "outputs": [
        {
          "output_type": "execute_result",
          "data": {
            "text/plain": [
              "OrderedDict([('0.weight',\n",
              "              tensor([[-0.3628, -0.4645, -0.5342, -0.3799, -0.3948, -0.0571, -0.4246, -0.4181,\n",
              "                       -0.0831,  0.7231, -0.6682, -0.0568, -0.4774, -0.5287, -0.1540,  0.2934,\n",
              "                       -0.1580, -0.2625,  0.3832,  0.7114, -0.3252, -0.5812, -0.5802, -0.4622,\n",
              "                       -0.3952, -0.2403, -0.5701, -0.4875, -0.6546, -0.3120]])),\n",
              "             ('0.bias', tensor([0.5464]))])"
            ]
          },
          "metadata": {},
          "execution_count": 81
        }
      ]
    },
    {
      "cell_type": "code",
      "source": [
        "#Saving the model\n",
        "torch.save(model.state_dict(),\n",
        "           'mymodel.pth')"
      ],
      "metadata": {
        "id": "EnCKD7cm3yxg"
      },
      "execution_count": 82,
      "outputs": []
    },
    {
      "cell_type": "code",
      "source": [
        "!ls"
      ],
      "metadata": {
        "colab": {
          "base_uri": "https://localhost:8080/"
        },
        "id": "zNANVC4C437d",
        "outputId": "acbc38ac-e29d-41af-8258-4111caefacf8"
      },
      "execution_count": 83,
      "outputs": [
        {
          "output_type": "stream",
          "name": "stdout",
          "text": [
            "mymodel.pth  sample_data\n"
          ]
        }
      ]
    },
    {
      "cell_type": "code",
      "source": [
        "#Loading the model\n",
        "model_new = nn.Sequential(\n",
        "    nn.Linear(D,1),\n",
        "    nn.Sigmoid()\n",
        ")\n",
        "model_new.load_state_dict(torch.load('mymodel.pth'))"
      ],
      "metadata": {
        "colab": {
          "base_uri": "https://localhost:8080/"
        },
        "id": "Fwuwz4E5445i",
        "outputId": "ba2458fb-cf42-4503-9ad3-97b722d58e32"
      },
      "execution_count": 84,
      "outputs": [
        {
          "output_type": "execute_result",
          "data": {
            "text/plain": [
              "<All keys matched successfully>"
            ]
          },
          "metadata": {},
          "execution_count": 84
        }
      ]
    },
    {
      "cell_type": "code",
      "source": [
        "#Evalutaing the loaded model\n",
        "with torch.inference_mode():\n",
        "  prediction_train = np.round(model_new(X_inputs).numpy())\n",
        "  train_accr = np.mean(y_targets.numpy()==prediction_train)\n",
        "  prediction_test = np.round(model_new(X_inputs_test).numpy())\n",
        "  test_accr = np.mean(y_targets_test.numpy()==prediction_test)\n",
        "print(f\"Train accuracy: {train_accr:.4f} | Test accuracy: {test_accr:.4f}\")"
      ],
      "metadata": {
        "colab": {
          "base_uri": "https://localhost:8080/"
        },
        "id": "0UZn3Q3h5gCP",
        "outputId": "0312ce15-cda9-4671-f15a-a61cdd97c59f"
      },
      "execution_count": 86,
      "outputs": [
        {
          "output_type": "stream",
          "name": "stdout",
          "text": [
            "Train accuracy: 0.9843 | Test accuracy: 0.9894\n"
          ]
        }
      ]
    },
    {
      "cell_type": "code",
      "source": [
        "#Download the model\n",
        "from google.colab import files\n",
        "files.download('mymodel.pth')"
      ],
      "metadata": {
        "colab": {
          "base_uri": "https://localhost:8080/",
          "height": 17
        },
        "id": "_5kf5cVF7qIy",
        "outputId": "e8f9c308-50c6-4057-b05e-7f4a8fe2cbd2"
      },
      "execution_count": 87,
      "outputs": [
        {
          "output_type": "display_data",
          "data": {
            "text/plain": [
              "<IPython.core.display.Javascript object>"
            ],
            "application/javascript": [
              "\n",
              "    async function download(id, filename, size) {\n",
              "      if (!google.colab.kernel.accessAllowed) {\n",
              "        return;\n",
              "      }\n",
              "      const div = document.createElement('div');\n",
              "      const label = document.createElement('label');\n",
              "      label.textContent = `Downloading \"${filename}\": `;\n",
              "      div.appendChild(label);\n",
              "      const progress = document.createElement('progress');\n",
              "      progress.max = size;\n",
              "      div.appendChild(progress);\n",
              "      document.body.appendChild(div);\n",
              "\n",
              "      const buffers = [];\n",
              "      let downloaded = 0;\n",
              "\n",
              "      const channel = await google.colab.kernel.comms.open(id);\n",
              "      // Send a message to notify the kernel that we're ready.\n",
              "      channel.send({})\n",
              "\n",
              "      for await (const message of channel.messages) {\n",
              "        // Send a message to notify the kernel that we're ready.\n",
              "        channel.send({})\n",
              "        if (message.buffers) {\n",
              "          for (const buffer of message.buffers) {\n",
              "            buffers.push(buffer);\n",
              "            downloaded += buffer.byteLength;\n",
              "            progress.value = downloaded;\n",
              "          }\n",
              "        }\n",
              "      }\n",
              "      const blob = new Blob(buffers, {type: 'application/binary'});\n",
              "      const a = document.createElement('a');\n",
              "      a.href = window.URL.createObjectURL(blob);\n",
              "      a.download = filename;\n",
              "      div.appendChild(a);\n",
              "      a.click();\n",
              "      div.remove();\n",
              "    }\n",
              "  "
            ]
          },
          "metadata": {}
        },
        {
          "output_type": "display_data",
          "data": {
            "text/plain": [
              "<IPython.core.display.Javascript object>"
            ],
            "application/javascript": [
              "download(\"download_3c41137d-95d6-4668-820e-d4aaa35bb6f6\", \"mymodel.pth\", 1191)"
            ]
          },
          "metadata": {}
        }
      ]
    },
    {
      "cell_type": "code",
      "source": [
        "  "
      ],
      "metadata": {
        "id": "QBuIbc5J8sry"
      },
      "execution_count": null,
      "outputs": []
    }
  ]
}