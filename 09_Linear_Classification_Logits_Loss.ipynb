{
  "cells": [
    {
      "cell_type": "markdown",
      "metadata": {
        "id": "view-in-github",
        "colab_type": "text"
      },
      "source": [
        "<a href=\"https://colab.research.google.com/github/himanshu3103/PyTorch/blob/main/09_Linear_Classification_Logits_Loss.ipynb\" target=\"_parent\"><img src=\"https://colab.research.google.com/assets/colab-badge.svg\" alt=\"Open In Colab\"/></a>"
      ]
    },
    {
      "cell_type": "markdown",
      "metadata": {
        "id": "auOVgUuNNNap"
      },
      "source": [
        "#Linear Classification\n",
        "## Resources : \n",
        "  * [Sklearn Breast Cancer Dataset](https://scikit-learn.org/stable/modules/generated/sklearn.datasets.load_breast_cancer.html)\n",
        "  * [Sklearn Bunch (Dictionary)](https://scikit-learn.org/stable/modules/generated/sklearn.utils.Bunch.html)\n",
        "  * [Sklearn Train Test Split](https://scikit-learn.org/stable/modules/generated/sklearn.model_selection.train_test_split.html)\n",
        "  * [Sklearn Standard Scaler](https://scikit-learn.org/stable/modules/generated/sklearn.preprocessing.StandardScaler.html)\n",
        "  * [Binary Cross Entropy with Logits Loss](https://pytorch.org/docs/stable/generated/torch.nn.BCEWithLogitsLoss.html#bcewithlogitsloss)\n",
        "  * [Adam Optimizer](https://pytorch.org/docs/stable/generated/torch.optim.Adam.html#adam)"
      ]
    },
    {
      "cell_type": "markdown",
      "metadata": {
        "id": "sNqFjIzNNRIx"
      },
      "source": [
        "##Loading and Prepocessing the data"
      ]
    },
    {
      "cell_type": "code",
      "execution_count": 1,
      "metadata": {
        "id": "_96-_1amC9ip"
      },
      "outputs": [],
      "source": [
        "#Importing all the required libraries\n",
        "import numpy as np\n",
        "import torch\n",
        "import torch.nn as nn\n",
        "import matplotlib.pyplot as plt"
      ]
    },
    {
      "cell_type": "code",
      "execution_count": 25,
      "metadata": {
        "id": "0Bk8N5A5MoVD"
      },
      "outputs": [],
      "source": [
        "#Loading the dataset Sklearn\n",
        "from sklearn.datasets import load_breast_cancer "
      ]
    },
    {
      "cell_type": "code",
      "execution_count": 26,
      "metadata": {
        "colab": {
          "base_uri": "https://localhost:8080/"
        },
        "id": "cIkzDEgXMzGx",
        "outputId": "eaa74df2-6384-4f25-eb55-0634870f3766"
      },
      "outputs": [
        {
          "output_type": "execute_result",
          "data": {
            "text/plain": [
              "sklearn.utils._bunch.Bunch"
            ]
          },
          "metadata": {},
          "execution_count": 26
        }
      ],
      "source": [
        "data = load_breast_cancer()\n",
        "type(data)"
      ]
    },
    {
      "cell_type": "code",
      "execution_count": 4,
      "metadata": {
        "colab": {
          "base_uri": "https://localhost:8080/"
        },
        "id": "RuK-jAAzM5Cp",
        "outputId": "fe656911-74f8-4c1a-fb4d-cc1694491876"
      },
      "outputs": [
        {
          "output_type": "execute_result",
          "data": {
            "text/plain": [
              "dict_keys(['data', 'target', 'frame', 'target_names', 'DESCR', 'feature_names', 'filename', 'data_module'])"
            ]
          },
          "metadata": {},
          "execution_count": 4
        }
      ],
      "source": [
        "data.keys()"
      ]
    },
    {
      "cell_type": "code",
      "execution_count": 5,
      "metadata": {
        "colab": {
          "base_uri": "https://localhost:8080/"
        },
        "id": "p2ZhrVTWNB9m",
        "outputId": "27384ff4-32e6-4893-a586-09c3e4d7623e"
      },
      "outputs": [
        {
          "output_type": "execute_result",
          "data": {
            "text/plain": [
              "(569,)"
            ]
          },
          "metadata": {},
          "execution_count": 5
        }
      ],
      "source": [
        "#Target data shape\n",
        "data['target'].shape"
      ]
    },
    {
      "cell_type": "code",
      "execution_count": 6,
      "metadata": {
        "colab": {
          "base_uri": "https://localhost:8080/"
        },
        "id": "LAaCMCjuN5X6",
        "outputId": "172eb312-4577-4f3d-b79f-da5770a56dd5"
      },
      "outputs": [
        {
          "output_type": "execute_result",
          "data": {
            "text/plain": [
              "(569, 30)"
            ]
          },
          "metadata": {},
          "execution_count": 6
        }
      ],
      "source": [
        "#Input data shape\n",
        "data['data'].shape"
      ]
    },
    {
      "cell_type": "code",
      "execution_count": 7,
      "metadata": {
        "colab": {
          "base_uri": "https://localhost:8080/"
        },
        "id": "06rxuQECOJNn",
        "outputId": "e49a82ca-8bd4-4dae-bc5b-e96f1cc23ec5"
      },
      "outputs": [
        {
          "output_type": "execute_result",
          "data": {
            "text/plain": [
              "array(['malignant', 'benign'], dtype='<U9')"
            ]
          },
          "metadata": {},
          "execution_count": 7
        }
      ],
      "source": [
        "data['target_names']"
      ]
    },
    {
      "cell_type": "code",
      "execution_count": 8,
      "metadata": {
        "colab": {
          "base_uri": "https://localhost:8080/"
        },
        "id": "IiL8pthMORIX",
        "outputId": "e98cebf1-b4b7-4b46-e894-caf58806451f"
      },
      "outputs": [
        {
          "output_type": "execute_result",
          "data": {
            "text/plain": [
              "(array(['mean radius', 'mean texture', 'mean perimeter', 'mean area',\n",
              "        'mean smoothness', 'mean compactness', 'mean concavity',\n",
              "        'mean concave points', 'mean symmetry', 'mean fractal dimension',\n",
              "        'radius error', 'texture error', 'perimeter error', 'area error',\n",
              "        'smoothness error', 'compactness error', 'concavity error',\n",
              "        'concave points error', 'symmetry error',\n",
              "        'fractal dimension error', 'worst radius', 'worst texture',\n",
              "        'worst perimeter', 'worst area', 'worst smoothness',\n",
              "        'worst compactness', 'worst concavity', 'worst concave points',\n",
              "        'worst symmetry', 'worst fractal dimension'], dtype='<U23'),\n",
              " (30,))"
            ]
          },
          "metadata": {},
          "execution_count": 8
        }
      ],
      "source": [
        "data['feature_names'], data['feature_names'].shape"
      ]
    },
    {
      "cell_type": "markdown",
      "metadata": {
        "id": "wVQIoyCpQbbG"
      },
      "source": [
        "### Splitting the data into train and test "
      ]
    },
    {
      "cell_type": "code",
      "execution_count": 9,
      "metadata": {
        "id": "TwkjO_7bOT6C"
      },
      "outputs": [],
      "source": [
        "from sklearn.model_selection import train_test_split"
      ]
    },
    {
      "cell_type": "code",
      "execution_count": 27,
      "metadata": {
        "id": "HFrS1yMPPZGe"
      },
      "outputs": [],
      "source": [
        "X_train, X_test, y_train, y_test = train_test_split(data.data, data.target, test_size=0.33, random_state=42)"
      ]
    },
    {
      "cell_type": "code",
      "execution_count": 28,
      "metadata": {
        "colab": {
          "base_uri": "https://localhost:8080/"
        },
        "id": "fwhXI8ngQaIC",
        "outputId": "09624e36-6a39-4118-8f0c-45819073beda"
      },
      "outputs": [
        {
          "output_type": "execute_result",
          "data": {
            "text/plain": [
              "((381, 30), (188, 30), (381,), (188,))"
            ]
          },
          "metadata": {},
          "execution_count": 28
        }
      ],
      "source": [
        "X_train.shape, X_test.shape, y_train.shape, y_test.shape"
      ]
    },
    {
      "cell_type": "code",
      "execution_count": 29,
      "metadata": {
        "id": "vFt1PkjJc16n"
      },
      "outputs": [],
      "source": [
        "N,D = X_train.shape"
      ]
    },
    {
      "cell_type": "code",
      "execution_count": 13,
      "metadata": {
        "colab": {
          "base_uri": "https://localhost:8080/",
          "height": 467
        },
        "id": "4s9CHJHjdaFu",
        "outputId": "4bfaba8f-38d1-4ac1-d93e-503e065baf40"
      },
      "outputs": [
        {
          "output_type": "execute_result",
          "data": {
            "text/plain": [
              "Text(0, 0.5, 'mean texture')"
            ]
          },
          "metadata": {},
          "execution_count": 13
        },
        {
          "output_type": "display_data",
          "data": {
            "text/plain": [
              "<Figure size 640x480 with 1 Axes>"
            ],
            "image/png": "[encoded data removed]"
          },
          "metadata": {}
        }
      ],
      "source": [
        "plt.scatter(X_train[0],X_train[1])\n",
        "plt.xlabel(\"mean radius\")\n",
        "plt.ylabel(\"mean texture\")"
      ]
    },
    {
      "cell_type": "markdown",
      "metadata": {
        "id": "Bor_qwXiQrzx"
      },
      "source": [
        "### Normalizing the data"
      ]
    },
    {
      "cell_type": "code",
      "execution_count": 14,
      "metadata": {
        "id": "8vUuVzn8Qn5S"
      },
      "outputs": [],
      "source": [
        "from sklearn.preprocessing import StandardScaler"
      ]
    },
    {
      "cell_type": "code",
      "execution_count": 30,
      "metadata": {
        "id": "WlzF3tZrRVYl"
      },
      "outputs": [],
      "source": [
        "scaler = StandardScaler()\n",
        "X_train = scaler.fit_transform(X_train)\n",
        "X_test = scaler.transform(X_test)"
      ]
    },
    {
      "cell_type": "code",
      "execution_count": 16,
      "metadata": {
        "colab": {
          "base_uri": "https://localhost:8080/",
          "height": 467
        },
        "id": "jQzfiQ4Vdvzn",
        "outputId": "0460242f-23d1-441e-94c2-8ddc13df3ce1"
      },
      "outputs": [
        {
          "output_type": "execute_result",
          "data": {
            "text/plain": [
              "Text(0, 0.5, 'mean texture')"
            ]
          },
          "metadata": {},
          "execution_count": 16
        },
        {
          "output_type": "display_data",
          "data": {
            "text/plain": [
              "<Figure size 640x480 with 1 Axes>"
            ],
            "image/png": "[encoded data removed]"
          },
          "metadata": {}
        }
      ],
      "source": [
        "plt.scatter(X_train[0],X_train[1])\n",
        "plt.xlabel(\"mean radius\")\n",
        "plt.ylabel(\"mean texture\")"
      ]
    },
    {
      "cell_type": "markdown",
      "metadata": {
        "id": "z4s28cL-SNdo"
      },
      "source": [
        "### Creating Model"
      ]
    },
    {
      "cell_type": "code",
      "execution_count": 31,
      "metadata": {
        "id": "JQNGLHbMcqYt"
      },
      "outputs": [],
      "source": [
        "model = nn.Linear(D,1)"
      ]
    },
    {
      "cell_type": "code",
      "execution_count": 32,
      "metadata": {
        "id": "rDrqy9yhcqQq"
      },
      "outputs": [],
      "source": [
        "#Loss - BCE\n",
        "loss_fn = nn.BCEWithLogitsLoss()\n",
        "#Optimizer - Adam\n",
        "optimizer = torch.optim.Adam(params=model.parameters())"
      ]
    },
    {
      "cell_type": "code",
      "execution_count": 33,
      "metadata": {
        "id": "Rnv2d7_qcqNZ"
      },
      "outputs": [],
      "source": [
        "X_inputs = torch.from_numpy(X_train.astype(np.float32))\n",
        "X_inputs_test = torch.from_numpy(X_test.astype(np.float32))\n",
        "y_targets = torch.from_numpy(y_train.astype(np.float32))\n",
        "y_targets_test = torch.from_numpy(y_test.astype(np.float32))"
      ]
    },
    {
      "cell_type": "code",
      "execution_count": 34,
      "metadata": {
        "colab": {
          "base_uri": "https://localhost:8080/"
        },
        "id": "b8e1dt15iwOH",
        "outputId": "015e1919-893c-4a15-b63a-c23d7402b6f1"
      },
      "outputs": [
        {
          "output_type": "execute_result",
          "data": {
            "text/plain": [
              "torch.Size([188, 1])"
            ]
          },
          "metadata": {},
          "execution_count": 34
        }
      ],
      "source": [
        "y_targets = y_targets.reshape(-1,1)\n",
        "y_targets_test = y_targets_test.reshape(-1,1)\n",
        "y_targets_test.shape"
      ]
    },
    {
      "cell_type": "code",
      "execution_count": 35,
      "metadata": {
        "colab": {
          "base_uri": "https://localhost:8080/"
        },
        "id": "AYmIThmyjqoa",
        "outputId": "caaeb5c6-e176-4251-eb3d-72edac8d1752"
      },
      "outputs": [
        {
          "output_type": "execute_result",
          "data": {
            "text/plain": [
              "OrderedDict([('weight',\n",
              "              tensor([[-0.0648,  0.0463, -0.1723,  0.1407, -0.0552, -0.0563,  0.1430, -0.0166,\n",
              "                        0.1127, -0.0003, -0.1798, -0.0225,  0.0490, -0.0417,  0.0077, -0.0203,\n",
              "                        0.0465, -0.0559,  0.1720,  0.0962,  0.1074,  0.0882, -0.1038,  0.0767,\n",
              "                       -0.0564,  0.1515,  0.0872, -0.0525,  0.0475,  0.0884]])),\n",
              "             ('bias', tensor([-0.1250]))])"
            ]
          },
          "metadata": {},
          "execution_count": 35
        }
      ],
      "source": [
        "model.state_dict()"
      ]
    },
    {
      "cell_type": "markdown",
      "metadata": {
        "id": "VptG447ufUjh"
      },
      "source": [
        "### Training Model"
      ]
    },
    {
      "cell_type": "code",
      "execution_count": 36,
      "metadata": {
        "colab": {
          "base_uri": "https://localhost:8080/"
        },
        "id": "PzbJJ9iNcqJ7",
        "outputId": "3a10594e-b040-4278-c8e0-b0195dafaf0a"
      },
      "outputs": [
        {
          "output_type": "stream",
          "name": "stdout",
          "text": [
            "Epoch 1/1500 | Train Loss : 0.8103605508804321 | Test Loss : 0.7976366281509399 | Train Acc : 32.2835 | Test Acc : 35.6383\n",
            "Epoch 51/1500 | Train Loss : 0.515394926071167 | Test Loss : 0.5056650042533875 | Train Acc : 86.6142 | Test Acc : 87.2340\n",
            "Epoch 101/1500 | Train Loss : 0.37821805477142334 | Test Loss : 0.3741174340248108 | Train Acc : 92.1260 | Test Acc : 93.6170\n",
            "Epoch 151/1500 | Train Loss : 0.30446964502334595 | Test Loss : 0.3031492829322815 | Train Acc : 93.9633 | Test Acc : 92.5532\n",
            "Epoch 201/1500 | Train Loss : 0.2584637701511383 | Test Loss : 0.25795403122901917 | Train Acc : 95.2756 | Test Acc : 93.6170\n",
            "Epoch 251/1500 | Train Loss : 0.22688990831375122 | Test Loss : 0.22618292272090912 | Train Acc : 95.8005 | Test Acc : 94.6809\n",
            "Epoch 301/1500 | Train Loss : 0.20381389558315277 | Test Loss : 0.20243756473064423 | Train Acc : 96.5879 | Test Acc : 95.7447\n",
            "Epoch 351/1500 | Train Loss : 0.18620072305202484 | Test Loss : 0.18395934998989105 | Train Acc : 97.3753 | Test Acc : 96.2766\n",
            "Epoch 401/1500 | Train Loss : 0.1723180115222931 | Test Loss : 0.16915753483772278 | Train Acc : 97.6378 | Test Acc : 96.8085\n",
            "Epoch 451/1500 | Train Loss : 0.16109418869018555 | Test Loss : 0.1570315659046173 | Train Acc : 97.9003 | Test Acc : 96.8085\n",
            "Epoch 501/1500 | Train Loss : 0.1518283486366272 | Test Loss : 0.14691424369812012 | Train Acc : 97.9003 | Test Acc : 97.3404\n",
            "Epoch 551/1500 | Train Loss : 0.14404296875 | Test Loss : 0.1383422464132309 | Train Acc : 98.1627 | Test Acc : 97.3404\n",
            "Epoch 601/1500 | Train Loss : 0.1374025046825409 | Test Loss : 0.13098390400409698 | Train Acc : 98.1627 | Test Acc : 97.3404\n",
            "Epoch 651/1500 | Train Loss : 0.13166487216949463 | Test Loss : 0.12459594756364822 | Train Acc : 98.1627 | Test Acc : 97.8723\n",
            "Epoch 701/1500 | Train Loss : 0.12665142118930817 | Test Loss : 0.11899608373641968 | Train Acc : 98.1627 | Test Acc : 97.8723\n",
            "Epoch 751/1500 | Train Loss : 0.122227743268013 | Test Loss : 0.11404522508382797 | Train Acc : 98.1627 | Test Acc : 97.8723\n",
            "Epoch 801/1500 | Train Loss : 0.11829084157943726 | Test Loss : 0.10963546484708786 | Train Acc : 98.1627 | Test Acc : 97.8723\n",
            "Epoch 851/1500 | Train Loss : 0.11476050317287445 | Test Loss : 0.10568183660507202 | Train Acc : 98.1627 | Test Acc : 97.8723\n",
            "Epoch 901/1500 | Train Loss : 0.11157345026731491 | Test Loss : 0.10211661458015442 | Train Acc : 98.1627 | Test Acc : 97.8723\n",
            "Epoch 951/1500 | Train Loss : 0.10867902636528015 | Test Loss : 0.09888506680727005 | Train Acc : 98.1627 | Test Acc : 97.8723\n",
            "Epoch 1001/1500 | Train Loss : 0.10603618621826172 | Test Loss : 0.09594253450632095 | Train Acc : 98.1627 | Test Acc : 97.8723\n",
            "Epoch 1051/1500 | Train Loss : 0.10361143201589584 | Test Loss : 0.09325215220451355 | Train Acc : 98.1627 | Test Acc : 97.8723\n",
            "Epoch 1101/1500 | Train Loss : 0.10137701034545898 | Test Loss : 0.0907832533121109 | Train Acc : 98.1627 | Test Acc : 98.4043\n",
            "Epoch 1151/1500 | Train Loss : 0.09930978715419769 | Test Loss : 0.08851008862257004 | Train Acc : 98.1627 | Test Acc : 98.4043\n",
            "Epoch 1201/1500 | Train Loss : 0.0973903089761734 | Test Loss : 0.08641086518764496 | Train Acc : 98.1627 | Test Acc : 98.4043\n",
            "Epoch 1251/1500 | Train Loss : 0.0956021174788475 | Test Loss : 0.08446697890758514 | Train Acc : 98.1627 | Test Acc : 98.4043\n",
            "Epoch 1301/1500 | Train Loss : 0.0939311534166336 | Test Loss : 0.08266249299049377 | Train Acc : 98.4252 | Test Acc : 98.4043\n",
            "Epoch 1351/1500 | Train Loss : 0.0923653244972229 | Test Loss : 0.08098360896110535 | Train Acc : 98.4252 | Test Acc : 98.9362\n",
            "Epoch 1401/1500 | Train Loss : 0.0908941999077797 | Test Loss : 0.0794183686375618 | Train Acc : 98.4252 | Test Acc : 98.9362\n",
            "Epoch 1451/1500 | Train Loss : 0.08950868993997574 | Test Loss : 0.07795630395412445 | Train Acc : 98.4252 | Test Acc : 98.9362\n"
          ]
        }
      ],
      "source": [
        "epochs = 1500\n",
        "train_losses = []\n",
        "test_losses = []\n",
        "train_accuracy = []\n",
        "test_accuracy = []\n",
        "for epoch in range(epochs):\n",
        "  ## training mode\n",
        "  model.train()\n",
        "  #1.\n",
        "  optimizer.zero_grad()\n",
        "  #2.\n",
        "  y_pred = model(X_inputs)\n",
        "  #3.\n",
        "  loss = loss_fn(y_pred,y_targets)\n",
        "  train_losses.append(loss.item())\n",
        "  #4. \n",
        "  loss.backward()\n",
        "  optimizer.step()\n",
        "\n",
        "  ##Testing mode\n",
        "  model.eval()\n",
        "  #1.\n",
        "  y_pred_test = model(X_inputs_test)\n",
        "  #2.\n",
        "  loss_test = loss_fn(y_pred_test,y_targets_test)\n",
        "  test_losses.append(loss_test.item())\n",
        "  \n",
        "  ## Storing test and training accuracy\n",
        "  y_pred_train = (y_pred.detach().numpy()>0)\n",
        "  y_pred_test = (y_pred_test.detach().numpy()>0)\n",
        "  acc_train = np.mean(y_pred_train==y_targets.detach().numpy())\n",
        "  acc_test = np.mean(y_pred_test==y_targets_test.detach().numpy())\n",
        "  train_accuracy.append(acc_train)\n",
        "  test_accuracy.append(acc_test)\n",
        "\n",
        "  if epoch%50==0:\n",
        "    print(f\"Epoch {epoch+1}/{epochs} | Train Loss : {loss} | Test Loss : {loss_test} | Train Acc : {(acc_train*100):.4f} | Test Acc : {(acc_test*100):.4f}\")"
      ]
    },
    {
      "cell_type": "code",
      "execution_count": 37,
      "metadata": {
        "colab": {
          "base_uri": "https://localhost:8080/",
          "height": 430
        },
        "id": "Xe3NjEcXcqHT",
        "outputId": "bd754235-73e1-4f65-91a9-25b2a64646c4"
      },
      "outputs": [
        {
          "output_type": "display_data",
          "data": {
            "text/plain": [
              "<Figure size 640x480 with 1 Axes>"
            ],
            "image/png": "[encoded data removed]"
          },
          "metadata": {}
        }
      ],
      "source": [
        "plt.plot(train_losses,label=\"training loss\")\n",
        "plt.plot(test_losses,label=\"test loss\")\n",
        "plt.legend()\n",
        "plt.show()"
      ]
    },
    {
      "cell_type": "code",
      "execution_count": 38,
      "metadata": {
        "colab": {
          "base_uri": "https://localhost:8080/",
          "height": 430
        },
        "id": "slrhaXA_yg-z",
        "outputId": "7f34855c-9ec4-4255-c00b-25be3b426d6e"
      },
      "outputs": [
        {
          "output_type": "display_data",
          "data": {
            "text/plain": [
              "<Figure size 640x480 with 1 Axes>"
            ],
            "image/png": "[encoded data removed]"
          },
          "metadata": {}
        }
      ],
      "source": [
        "plt.plot(train_accuracy,label=\"training accuracy\")\n",
        "plt.plot(test_accuracy,label=\"test accuracy\")\n",
        "plt.legend()\n",
        "plt.show()"
      ]
    },
    {
      "cell_type": "markdown",
      "metadata": {
        "id": "0QszsfGHkhsw"
      },
      "source": [
        "### Calculating the accuracy"
      ]
    },
    {
      "cell_type": "code",
      "execution_count": 39,
      "metadata": {
        "colab": {
          "base_uri": "https://localhost:8080/"
        },
        "id": "LYgiAB8ecqEf",
        "outputId": "d69a2bff-f820-4e25-f90b-9fb5e936d5dd"
      },
      "outputs": [
        {
          "output_type": "stream",
          "name": "stdout",
          "text": [
            "Train accuracy: 0.9843 | Test accuracy: 0.9894\n"
          ]
        }
      ],
      "source": [
        "with torch.inference_mode():\n",
        "  #Training accuracy\n",
        "  pred_train = model(X_inputs).numpy()\n",
        "  pred_train = (pred_train>0)\n",
        "  train_acc = np.mean(y_targets.numpy()==pred_train)\n",
        "  #Test accuracy\n",
        "  pred_test = model(X_inputs_test).numpy()\n",
        "  pred_test = (pred_test>0)\n",
        "  test_acc = np.mean(y_targets_test.numpy()==pred_test)\n",
        "print(f\"Train accuracy: {train_acc:.4f} | Test accuracy: {test_acc:.4f}\")"
      ]
    },
    {
      "cell_type": "markdown",
      "metadata": {
        "id": "yCJZs6GP3p89"
      },
      "source": [
        "## Saving and Loading Model"
      ]
    },
    {
      "cell_type": "code",
      "execution_count": 40,
      "metadata": {
        "colab": {
          "base_uri": "https://localhost:8080/"
        },
        "id": "s5KT3GlhcqBd",
        "outputId": "a1c9e9ef-9663-4b57-9f3f-673c0871be67"
      },
      "outputs": [
        {
          "output_type": "execute_result",
          "data": {
            "text/plain": [
              "OrderedDict([('weight',\n",
              "              tensor([[-0.4456, -0.4844, -0.5463, -0.2570, -0.2545, -0.2220, -0.2651, -0.4312,\n",
              "                       -0.0925,  0.6136, -0.6556,  0.0106, -0.3666, -0.4978, -0.0378,  0.0646,\n",
              "                       -0.0741, -0.2143,  0.2556,  0.5987, -0.3252, -0.5218, -0.5182, -0.3614,\n",
              "                       -0.5255, -0.1606, -0.3496, -0.4594, -0.4892, -0.2796]])),\n",
              "             ('bias', tensor([0.4401]))])"
            ]
          },
          "metadata": {},
          "execution_count": 40
        }
      ],
      "source": [
        "model.state_dict()"
      ]
    },
    {
      "cell_type": "code",
      "execution_count": 41,
      "metadata": {
        "id": "EnCKD7cm3yxg"
      },
      "outputs": [],
      "source": [
        "#Saving the model\n",
        "torch.save(model.state_dict(),\n",
        "           'mymodel.pth')"
      ]
    },
    {
      "cell_type": "code",
      "execution_count": 42,
      "metadata": {
        "colab": {
          "base_uri": "https://localhost:8080/"
        },
        "id": "zNANVC4C437d",
        "outputId": "1e755d5f-3968-4c18-ed4c-db01f3f16815"
      },
      "outputs": [
        {
          "output_type": "stream",
          "name": "stdout",
          "text": [
            "mymodel.pth  sample_data\n"
          ]
        }
      ],
      "source": [
        "!ls"
      ]
    },
    {
      "cell_type": "code",
      "execution_count": 44,
      "metadata": {
        "colab": {
          "base_uri": "https://localhost:8080/"
        },
        "id": "Fwuwz4E5445i",
        "outputId": "f309cb2d-1191-4909-a0a9-3042500ae8c9"
      },
      "outputs": [
        {
          "output_type": "execute_result",
          "data": {
            "text/plain": [
              "<All keys matched successfully>"
            ]
          },
          "metadata": {},
          "execution_count": 44
        }
      ],
      "source": [
        "#Loading the model\n",
        "model_new = nn.Linear(D,1)\n",
        "model_new.load_state_dict(torch.load('mymodel.pth'))"
      ]
    },
    {
      "cell_type": "code",
      "execution_count": 45,
      "metadata": {
        "colab": {
          "base_uri": "https://localhost:8080/"
        },
        "id": "0UZn3Q3h5gCP",
        "outputId": "cac8d5e7-5165-4f01-daac-45bdaa8234f0"
      },
      "outputs": [
        {
          "output_type": "stream",
          "name": "stdout",
          "text": [
            "Train accuracy: 0.9843 | Test accuracy: 0.9894\n"
          ]
        }
      ],
      "source": [
        "#Evalutaing the loaded model\n",
        "with torch.inference_mode():\n",
        "  prediction_train = (model_new(X_inputs).numpy()>0)\n",
        "  train_accr = np.mean(y_targets.numpy()==prediction_train)\n",
        "  prediction_test = (model_new(X_inputs_test).numpy()>0)\n",
        "  test_accr = np.mean(y_targets_test.numpy()==prediction_test)\n",
        "print(f\"Train accuracy: {train_accr:.4f} | Test accuracy: {test_accr:.4f}\")"
      ]
    },
    {
      "cell_type": "code",
      "execution_count": null,
      "metadata": {
        "colab": {
          "base_uri": "https://localhost:8080/",
          "height": 17
        },
        "id": "_5kf5cVF7qIy",
        "outputId": "e8f9c308-50c6-4057-b05e-7f4a8fe2cbd2"
      },
      "outputs": [
        {
          "data": {
            "application/javascript": [
              "\n",
              "    async function download(id, filename, size) {\n",
              "      if (!google.colab.kernel.accessAllowed) {\n",
              "        return;\n",
              "      }\n",
              "      const div = document.createElement('div');\n",
              "      const label = document.createElement('label');\n",
              "      label.textContent = `Downloading \"${filename}\": `;\n",
              "      div.appendChild(label);\n",
              "      const progress = document.createElement('progress');\n",
              "      progress.max = size;\n",
              "      div.appendChild(progress);\n",
              "      document.body.appendChild(div);\n",
              "\n",
              "      const buffers = [];\n",
              "      let downloaded = 0;\n",
              "\n",
              "      const channel = await google.colab.kernel.comms.open(id);\n",
              "      // Send a message to notify the kernel that we're ready.\n",
              "      channel.send({})\n",
              "\n",
              "      for await (const message of channel.messages) {\n",
              "        // Send a message to notify the kernel that we're ready.\n",
              "        channel.send({})\n",
              "        if (message.buffers) {\n",
              "          for (const buffer of message.buffers) {\n",
              "            buffers.push(buffer);\n",
              "            downloaded += buffer.byteLength;\n",
              "            progress.value = downloaded;\n",
              "          }\n",
              "        }\n",
              "      }\n",
              "      const blob = new Blob(buffers, {type: 'application/binary'});\n",
              "      const a = document.createElement('a');\n",
              "      a.href = window.URL.createObjectURL(blob);\n",
              "      a.download = filename;\n",
              "      div.appendChild(a);\n",
              "      a.click();\n",
              "      div.remove();\n",
              "    }\n",
              "  "
            ],
            "text/plain": [
              "<IPython.core.display.Javascript object>"
            ]
          },
          "metadata": {},
          "output_type": "display_data"
        },
        {
          "data": {
            "application/javascript": [
              "download(\"download_3c41137d-95d6-4668-820e-d4aaa35bb6f6\", \"mymodel.pth\", 1191)"
            ],
            "text/plain": [
              "<IPython.core.display.Javascript object>"
            ]
          },
          "metadata": {},
          "output_type": "display_data"
        }
      ],
      "source": [
        "#Download the model\n",
        "from google.colab import files\n",
        "files.download('mymodel.pth')"
      ]
    },
    {
      "cell_type": "code",
      "execution_count": null,
      "metadata": {
        "id": "QBuIbc5J8sry"
      },
      "outputs": [],
      "source": [
        "  "
      ]
    }
  ],
  "metadata": {
    "colab": {
      "provenance": [],
      "authorship_tag": "ABX9TyMBr61ldGTpMmN5kb06fRmM",
      "include_colab_link": true
    },
    "kernelspec": {
      "display_name": "Python 3",
      "name": "python3"
    },
    "language_info": {
      "name": "python"
    }
  },
  "nbformat": 4,
  "nbformat_minor": 0
}