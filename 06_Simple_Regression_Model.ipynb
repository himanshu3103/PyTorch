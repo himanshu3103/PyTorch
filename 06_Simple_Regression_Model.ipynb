{
  "nbformat": 4,
  "nbformat_minor": 0,
  "metadata": {
    "colab": {
      "provenance": [],
      "authorship_tag": "ABX9TyNVQ1VfyE4DNsG4+zdSiQIH",
      "include_colab_link": true
    },
    "kernelspec": {
      "name": "python3",
      "display_name": "Python 3"
    },
    "language_info": {
      "name": "python"
    }
  },
  "cells": [
    {
      "cell_type": "markdown",
      "metadata": {
        "id": "view-in-github",
        "colab_type": "text"
      },
      "source": [
        "<a href=\"https://colab.research.google.com/github/himanshu3103/PyTorch/blob/main/Simple_Regression_Model.ipynb\" target=\"_parent\"><img src=\"https://colab.research.google.com/assets/colab-badge.svg\" alt=\"Open In Colab\"/></a>"
      ]
    },
    {
      "cell_type": "markdown",
      "source": [
        "# Simple Regression Model"
      ],
      "metadata": {
        "id": "VAHm5gI9CF6B"
      }
    },
    {
      "cell_type": "code",
      "execution_count": 1,
      "metadata": {
        "id": "u6760T10d2mN"
      },
      "outputs": [],
      "source": [
        "#Importing all the required libraries\n",
        "import numpy as np\n",
        "import torch\n",
        "import torch.nn as nn\n",
        "import matplotlib.pyplot as plt"
      ]
    },
    {
      "cell_type": "markdown",
      "source": [
        "## Generating synthetic data"
      ],
      "metadata": {
        "id": "w88hkf9xCEns"
      }
    },
    {
      "cell_type": "code",
      "source": [
        "torch.manual_seed(42)\n",
        "data_points = 20\n",
        "\n",
        "#Random data on the X axis in (-5,5)\n",
        "X = np.random.random(data_points)*10-5\n",
        "\n",
        "#Using regression model to create Y = wX + b\n",
        "y = 0.4*X - 1 + np.random.randn(data_points) #adds Gaussian Noise to the data\n",
        "# print(f\"Values of X are: {X}\")\n",
        "# print(f\"Values of Y are: {Y}\")\n",
        "print(f\"Max value in X {max(X)} and min value in X {min(X)}\")\n",
        "print(f\"Max value in Y {max(y)} and min value in Y {min(y)}\")"
      ],
      "metadata": {
        "colab": {
          "base_uri": "https://localhost:8080/"
        },
        "id": "4YM1ectiBRXn",
        "outputId": "d9a035c3-fe08-4db5-cba2-c34611f80217"
      },
      "execution_count": 51,
      "outputs": [
        {
          "output_type": "stream",
          "name": "stdout",
          "text": [
            "Max value in X 4.30866743902164 and min value in X -4.889145199139171\n",
            "Max value in Y 1.0052585008934225 and min value in Y -4.2688879514221565\n"
          ]
        }
      ]
    },
    {
      "cell_type": "code",
      "source": [
        "#Plotting the input data\n",
        "plt.scatter(X,y,label=\"Input Data\")"
      ],
      "metadata": {
        "colab": {
          "base_uri": "https://localhost:8080/",
          "height": 448
        },
        "id": "RpNKdJUmCCmh",
        "outputId": "480b2c9c-2a56-42bd-930f-5b8543cc1b65"
      },
      "execution_count": 52,
      "outputs": [
        {
          "output_type": "execute_result",
          "data": {
            "text/plain": [
              "<matplotlib.collections.PathCollection at 0x7f7d4b5a71c0>"
            ]
          },
          "metadata": {},
          "execution_count": 52
        },
        {
          "output_type": "display_data",
          "data": {
            "text/plain": [
              "<Figure size 640x480 with 1 Axes>"
            ],
            "image/png": "[encoded data removed]"
          },
          "metadata": {}
        }
      ]
    },
    {
      "cell_type": "markdown",
      "source": [
        "## Creating the Model"
      ],
      "metadata": {
        "id": "0Mdxuy5fDaGZ"
      }
    },
    {
      "cell_type": "code",
      "source": [
        "model = nn.Linear(1,1)"
      ],
      "metadata": {
        "id": "AjXAven0DpeM"
      },
      "execution_count": 53,
      "outputs": []
    },
    {
      "cell_type": "markdown",
      "source": [
        "## Setting Loss and Optimizer"
      ],
      "metadata": {
        "id": "678bV9a8Dvey"
      }
    },
    {
      "cell_type": "code",
      "source": [
        "loss_fn = nn.MSELoss()\n",
        "optimizer = torch.optim.SGD(params=model.parameters(),\n",
        "                            lr=1e-1)"
      ],
      "metadata": {
        "id": "E2qVRTWUD3Wq"
      },
      "execution_count": 54,
      "outputs": []
    },
    {
      "cell_type": "markdown",
      "source": [
        "## Converting numpy data to torch tensors for computation"
      ],
      "metadata": {
        "id": "aaa57krHGICs"
      }
    },
    {
      "cell_type": "code",
      "source": [
        "# We need our data to be of the form (num of samples X num of dimensions)\n",
        "X = X.reshape(data_points,1)\n",
        "y = y.reshape(data_points, 1)\n",
        "\n",
        "X_inputs = torch.from_numpy(X.astype(np.float32))\n",
        "y_targets = torch.from_numpy(y.astype(np.float32))"
      ],
      "metadata": {
        "id": "nyn4YJ6GFaiE"
      },
      "execution_count": 55,
      "outputs": []
    },
    {
      "cell_type": "markdown",
      "source": [
        "## Training the Model"
      ],
      "metadata": {
        "id": "EvS4bO5LD3Tw"
      }
    },
    {
      "cell_type": "code",
      "source": [
        "model.state_dict()"
      ],
      "metadata": {
        "colab": {
          "base_uri": "https://localhost:8080/"
        },
        "id": "tSnjRnuMJ5hu",
        "outputId": "221641c4-6452-4eb1-ebad-eace7a27c84b"
      },
      "execution_count": 56,
      "outputs": [
        {
          "output_type": "execute_result",
          "data": {
            "text/plain": [
              "OrderedDict([('weight', tensor([[0.7645]])), ('bias', tensor([0.8300]))])"
            ]
          },
          "metadata": {},
          "execution_count": 56
        }
      ]
    },
    {
      "cell_type": "code",
      "source": [
        "epochs = 50\n",
        "losses = []\n",
        "for epoch in range(epochs):\n",
        "  model.train()\n",
        "  # 1. Setting zero grad\n",
        "  optimizer.zero_grad()\n",
        "  # 2. Making Prediction using the values\n",
        "  y_pred = model(X_inputs)\n",
        "  # 3. Calculating loss \n",
        "  loss = loss_fn(y_pred,y_targets)\n",
        "  losses.append(loss.item())\n",
        "  # 4. Backpropagations\n",
        "  loss.backward()\n",
        "  # 5. Optimizer step\n",
        "  optimizer.step()\n",
        "  print(f\"Epoch {epoch+1}/{epochs} | Loss : {loss.item():.4f}\")\n"
      ],
      "metadata": {
        "colab": {
          "base_uri": "https://localhost:8080/"
        },
        "id": "5bQyTfPnD3Qp",
        "outputId": "c77d6269-11cd-48ad-c9e9-b62922c1c532"
      },
      "execution_count": 57,
      "outputs": [
        {
          "output_type": "stream",
          "name": "stdout",
          "text": [
            "Epoch 1/50 | Loss : 5.3389\n",
            "Epoch 2/50 | Loss : 3.6360\n",
            "Epoch 3/50 | Loss : 2.5722\n",
            "Epoch 4/50 | Loss : 1.9056\n",
            "Epoch 5/50 | Loss : 1.4865\n",
            "Epoch 6/50 | Loss : 1.2225\n",
            "Epoch 7/50 | Loss : 1.0556\n",
            "Epoch 8/50 | Loss : 0.9499\n",
            "Epoch 9/50 | Loss : 0.8829\n",
            "Epoch 10/50 | Loss : 0.8402\n",
            "Epoch 11/50 | Loss : 0.8131\n",
            "Epoch 12/50 | Loss : 0.7957\n",
            "Epoch 13/50 | Loss : 0.7847\n",
            "Epoch 14/50 | Loss : 0.7776\n",
            "Epoch 15/50 | Loss : 0.7731\n",
            "Epoch 16/50 | Loss : 0.7702\n",
            "Epoch 17/50 | Loss : 0.7683\n",
            "Epoch 18/50 | Loss : 0.7671\n",
            "Epoch 19/50 | Loss : 0.7663\n",
            "Epoch 20/50 | Loss : 0.7658\n",
            "Epoch 21/50 | Loss : 0.7655\n",
            "Epoch 22/50 | Loss : 0.7653\n",
            "Epoch 23/50 | Loss : 0.7652\n",
            "Epoch 24/50 | Loss : 0.7651\n",
            "Epoch 25/50 | Loss : 0.7650\n",
            "Epoch 26/50 | Loss : 0.7650\n",
            "Epoch 27/50 | Loss : 0.7650\n",
            "Epoch 28/50 | Loss : 0.7650\n",
            "Epoch 29/50 | Loss : 0.7650\n",
            "Epoch 30/50 | Loss : 0.7650\n",
            "Epoch 31/50 | Loss : 0.7649\n",
            "Epoch 32/50 | Loss : 0.7649\n",
            "Epoch 33/50 | Loss : 0.7649\n",
            "Epoch 34/50 | Loss : 0.7649\n",
            "Epoch 35/50 | Loss : 0.7649\n",
            "Epoch 36/50 | Loss : 0.7649\n",
            "Epoch 37/50 | Loss : 0.7649\n",
            "Epoch 38/50 | Loss : 0.7649\n",
            "Epoch 39/50 | Loss : 0.7649\n",
            "Epoch 40/50 | Loss : 0.7649\n",
            "Epoch 41/50 | Loss : 0.7649\n",
            "Epoch 42/50 | Loss : 0.7649\n",
            "Epoch 43/50 | Loss : 0.7649\n",
            "Epoch 44/50 | Loss : 0.7649\n",
            "Epoch 45/50 | Loss : 0.7649\n",
            "Epoch 46/50 | Loss : 0.7649\n",
            "Epoch 47/50 | Loss : 0.7649\n",
            "Epoch 48/50 | Loss : 0.7649\n",
            "Epoch 49/50 | Loss : 0.7649\n",
            "Epoch 50/50 | Loss : 0.7649\n"
          ]
        }
      ]
    },
    {
      "cell_type": "code",
      "source": [
        "list(model.parameters())"
      ],
      "metadata": {
        "colab": {
          "base_uri": "https://localhost:8080/"
        },
        "id": "3jZWfwGuD3Hm",
        "outputId": "2371e494-9d03-4107-bb88-bb55d012009b"
      },
      "execution_count": 58,
      "outputs": [
        {
          "output_type": "execute_result",
          "data": {
            "text/plain": [
              "[Parameter containing:\n",
              " tensor([[0.3320]], requires_grad=True),\n",
              " Parameter containing:\n",
              " tensor([-1.0521], requires_grad=True)]"
            ]
          },
          "metadata": {},
          "execution_count": 58
        }
      ]
    },
    {
      "cell_type": "code",
      "source": [
        "#Plotting our losses\n",
        "plt.plot(losses)"
      ],
      "metadata": {
        "colab": {
          "base_uri": "https://localhost:8080/",
          "height": 448
        },
        "id": "pwPFdWMuJBRS",
        "outputId": "7af07e68-668b-439a-9f39-74c22e17a5ae"
      },
      "execution_count": 59,
      "outputs": [
        {
          "output_type": "execute_result",
          "data": {
            "text/plain": [
              "[<matplotlib.lines.Line2D at 0x7f7d4b6eaec0>]"
            ]
          },
          "metadata": {},
          "execution_count": 59
        },
        {
          "output_type": "display_data",
          "data": {
            "text/plain": [
              "<Figure size 640x480 with 1 Axes>"
            ],
            "image/png": "[encoded data removed]"
          },
          "metadata": {}
        }
      ]
    },
    {
      "cell_type": "code",
      "source": [
        "predicted = model(X_inputs).detach().numpy()\n",
        "plt.scatter(X,y,label=\"Original Data\")\n",
        "plt.plot(X,predicted, label=\"Our fit\")\n",
        "plt.legend()\n",
        "plt.show()"
      ],
      "metadata": {
        "colab": {
          "base_uri": "https://localhost:8080/",
          "height": 430
        },
        "id": "Zd8AcJLPJlvM",
        "outputId": "e1fe8e1a-52a3-477a-a861-71ff286e0cd5"
      },
      "execution_count": 63,
      "outputs": [
        {
          "output_type": "display_data",
          "data": {
            "text/plain": [
              "<Figure size 640x480 with 1 Axes>"
            ],
            "image/png": "[encoded data removed]"
          },
          "metadata": {}
        }
      ]
    },
    {
      "cell_type": "code",
      "source": [
        "#Different approach for predictions\n",
        "with torch.inference_mode():\n",
        "  pred = model(X_inputs).numpy()\n",
        "plt.scatter(X,y,label=\"Original Data\")\n",
        "plt.plot(X,pred, label=\"Our fit\")\n",
        "plt.legend()\n",
        "plt.show()\n",
        "pred"
      ],
      "metadata": {
        "colab": {
          "base_uri": "https://localhost:8080/",
          "height": 787
        },
        "id": "DXUWC5vzKdjr",
        "outputId": "4a8f1989-e322-48e1-fa83-cf0da81c9964"
      },
      "execution_count": 65,
      "outputs": [
        {
          "output_type": "display_data",
          "data": {
            "text/plain": [
              "<Figure size 640x480 with 1 Axes>"
            ],
            "image/png": "[encoded data removed]"
          },
          "metadata": {}
        },
        {
          "output_type": "execute_result",
          "data": {
            "text/plain": [
              "array([[ 3.7824523e-01],\n",
              "       [-2.4561563e+00],\n",
              "       [-1.2795773e+00],\n",
              "       [-2.1606081e+00],\n",
              "       [-1.2453556e-01],\n",
              "       [ 1.5053749e-03],\n",
              "       [-2.8542531e-01],\n",
              "       [ 2.8946888e-01],\n",
              "       [-2.1423140e+00],\n",
              "       [-4.6658957e-01],\n",
              "       [-7.9333520e-01],\n",
              "       [-1.9210548e+00],\n",
              "       [-1.2177213e+00],\n",
              "       [-2.3124416e+00],\n",
              "       [-2.0027931e+00],\n",
              "       [-1.4004675e+00],\n",
              "       [-3.9634591e-01],\n",
              "       [-2.1244190e+00],\n",
              "       [-4.1660130e-01],\n",
              "       [-2.6751924e+00]], dtype=float32)"
            ]
          },
          "metadata": {},
          "execution_count": 65
        }
      ]
    },
    {
      "cell_type": "code",
      "source": [
        "#true values w = 0.4 b = -1\n",
        "w = model.weight.data.numpy()\n",
        "b = model.bias.data.numpy()\n",
        "print(w,b)"
      ],
      "metadata": {
        "colab": {
          "base_uri": "https://localhost:8080/"
        },
        "id": "Xebtcv3-LZvH",
        "outputId": "29dd1c48-94ef-4e14-bcd7-f9ccdac63810"
      },
      "execution_count": 67,
      "outputs": [
        {
          "output_type": "stream",
          "name": "stdout",
          "text": [
            "[[0.33197433]] [-1.0521218]\n"
          ]
        }
      ]
    },
    {
      "cell_type": "code",
      "source": [],
      "metadata": {
        "id": "djT5N0yVLuxR"
      },
      "execution_count": null,
      "outputs": []
    }
  ]
}
