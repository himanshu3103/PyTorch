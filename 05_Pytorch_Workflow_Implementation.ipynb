{
  "nbformat": 4,
  "nbformat_minor": 0,
  "metadata": {
    "colab": {
      "provenance": [],
      "gpuType": "T4",
      "authorship_tag": "ABX9TyPAnV4zxPyf6MKw+UOehqhi",
      "include_colab_link": true
    },
    "kernelspec": {
      "name": "python3",
      "display_name": "Python 3"
    },
    "language_info": {
      "name": "python"
    },
    "gpuClass": "standard"
  },
  "cells": [
    {
      "cell_type": "markdown",
      "metadata": {
        "id": "view-in-github",
        "colab_type": "text"
      },
      "source": [
        "<a href=\"https://colab.research.google.com/github/himanshu3103/PyTorch/blob/main/Pytorch_Workflow_Implementation.ipynb\" target=\"_parent\"><img src=\"https://colab.research.google.com/assets/colab-badge.svg\" alt=\"Open In Colab\"/></a>"
      ]
    },
    {
      "cell_type": "markdown",
      "source": [
        "# PyTorch Workflow\n",
        "**Resources:**\n",
        "1. [Mrdbourke's Github for this notebook](https://github.com/mrdbourke/pytorch-deep-learning/blob/main/01_pytorch_workflow.ipynb)\n",
        "2. [torch.nn](https://pytorch.org/docs/stable/nn.html)\n",
        "3. [Linear Regression](http://www.stat.yale.edu/Courses/1997-98/101/linreg.htm#:~:text=A%20linear%20regression%20line%20has,y%20when%20x%20%3D%200)\n",
        "4. [nn.Module](https://pytorch.org/docs/stable/generated/torch.nn.Module.html)\n",
        "5. [Pytorch Cheat Sheet](https://pytorch.org/tutorials/beginner/ptcheat.html)\n",
        "6. [PyTorch Inference Mode](https://twitter.com/PyTorch/status/1437838231505096708)\n",
        "7. [PyTorch Loss Function](https://pytorch.org/docs/stable/nn.html#loss-functions)\n",
        "8. [PyTorch Optimizer](https://pytorch.org/docs/stable/optim.html)\n",
        "9. [Saving and Loading Model](https://pytorch.org/tutorials/beginner/saving_loading_models.html#saving-and-loading-models)"
      ],
      "metadata": {
        "id": "IYXbuOn8avH-"
      }
    },
    {
      "cell_type": "code",
      "source": [
        "Workflow = {1: \"data (prepare and load)\",\n",
        "            2: \"build model\",\n",
        "            3: \"fitting the model to the data (training)\",\n",
        "            4: \"making predictions and evaluating the model (inference)\",\n",
        "            5: \"saving and loading a model\",\n",
        "            6: \"putting it all together\"\n",
        "            }\n",
        "Workflow"
      ],
      "metadata": {
        "colab": {
          "base_uri": "https://localhost:8080/"
        },
        "id": "3ADKxE1DbaDS",
        "outputId": "3fcd39a2-2fb9-467a-f57a-559c147026fc"
      },
      "execution_count": 1,
      "outputs": [
        {
          "output_type": "execute_result",
          "data": {
            "text/plain": [
              "{1: 'data (prepare and load)',\n",
              " 2: 'build model',\n",
              " 3: 'fitting the model to the data (training)',\n",
              " 4: 'making predictions and evaluating the model (inference)',\n",
              " 5: 'saving and loading a model',\n",
              " 6: 'putting it all together'}"
            ]
          },
          "metadata": {},
          "execution_count": 1
        }
      ]
    },
    {
      "cell_type": "code",
      "source": [
        "import torch\n",
        "from torch import nn #[2]\n",
        "import matplotlib.pyplot as plt\n",
        "\n",
        "#Check pytorch version\n",
        "torch.__version__"
      ],
      "metadata": {
        "colab": {
          "base_uri": "https://localhost:8080/",
          "height": 35
        },
        "id": "mVVFCBVgcObq",
        "outputId": "00771737-0199-47f6-e233-9fe7f95a8658"
      },
      "execution_count": 2,
      "outputs": [
        {
          "output_type": "execute_result",
          "data": {
            "text/plain": [
              "'2.0.0+cu118'"
            ],
            "application/vnd.google.colaboratory.intrinsic+json": {
              "type": "string"
            }
          },
          "metadata": {},
          "execution_count": 2
        }
      ]
    },
    {
      "cell_type": "markdown",
      "source": [
        "## 1. Data (Preparing and Loading)\n",
        "There are two parts to machine learning :\n",
        "1. Get data into a numerical representation\n",
        "2. Build a model to learn patterns in that numerical representation\n",
        "\n",
        "Let's create some *known* data using linear regression. ($ y = aX+b $)"
      ],
      "metadata": {
        "id": "_yFxRotee5Qk"
      }
    },
    {
      "cell_type": "code",
      "source": [
        "#Creating known parameters\n",
        "weight = 0.6\n",
        "bias = 0.6\n",
        "\n",
        "#Create\n",
        "start = 0\n",
        "end = 1\n",
        "step = 0.01\n",
        "X = torch.arange(start,end,step).unsqueeze(dim=1)\n",
        "y = weight * X + bias\n",
        "print(f\"First 10 values of X: {X[:10]}\")\n",
        "print(f\"First 10 values of y: {y[:10]}\")\n",
        "print(f\"Len of X: {len(X)} and len of y: {len(y)}\")"
      ],
      "metadata": {
        "id": "A4zNXeeEggEc",
        "colab": {
          "base_uri": "https://localhost:8080/"
        },
        "outputId": "2370c3b2-382f-4174-b8a5-e4ce220f998d"
      },
      "execution_count": 3,
      "outputs": [
        {
          "output_type": "stream",
          "name": "stdout",
          "text": [
            "First 10 values of X: tensor([[0.0000],\n",
            "        [0.0100],\n",
            "        [0.0200],\n",
            "        [0.0300],\n",
            "        [0.0400],\n",
            "        [0.0500],\n",
            "        [0.0600],\n",
            "        [0.0700],\n",
            "        [0.0800],\n",
            "        [0.0900]])\n",
            "First 10 values of y: tensor([[0.6000],\n",
            "        [0.6060],\n",
            "        [0.6120],\n",
            "        [0.6180],\n",
            "        [0.6240],\n",
            "        [0.6300],\n",
            "        [0.6360],\n",
            "        [0.6420],\n",
            "        [0.6480],\n",
            "        [0.6540]])\n",
            "Len of X: 100 and len of y: 100\n"
          ]
        }
      ]
    },
    {
      "cell_type": "markdown",
      "source": [
        "### Splitting data into training and test sets\n"
      ],
      "metadata": {
        "id": "0J_NaI4JggBi"
      }
    },
    {
      "cell_type": "code",
      "source": [
        "#Create test and train split\n",
        "train_split = int(0.8 * len(X))\n",
        "X_train, y_train = X[:train_split], y[:train_split]\n",
        "X_test, y_test = X[train_split:], y[train_split:]\n",
        "len(X_train), len(y_train), len(X_test), len(y_test)"
      ],
      "metadata": {
        "id": "6HeOTeldgfgn",
        "colab": {
          "base_uri": "https://localhost:8080/"
        },
        "outputId": "08f481f5-36d9-4cb7-bad7-48a7ac489e8b"
      },
      "execution_count": 4,
      "outputs": [
        {
          "output_type": "execute_result",
          "data": {
            "text/plain": [
              "(80, 80, 20, 20)"
            ]
          },
          "metadata": {},
          "execution_count": 4
        }
      ]
    },
    {
      "cell_type": "markdown",
      "source": [
        "Visualizing the data"
      ],
      "metadata": {
        "id": "g4p61m3wGSFO"
      }
    },
    {
      "cell_type": "code",
      "source": [
        "def plot_predictions(train_data = X_train, \n",
        "                     train_labels = y_train,\n",
        "                     test_data = X_test,\n",
        "                     test_labels = y_test,\n",
        "                     predictions=None):\n",
        "  \"\"\"\n",
        "  Plots training data, test data and compares predictions\n",
        "  \"\"\"\n",
        "  plt.figure(figsize=(10,7))\n",
        "\n",
        "  #Plot training data in red\n",
        "  plt.scatter(train_data, train_labels, c='r', s=4, label=\"Training data\")\n",
        "\n",
        "  #Plot test data in blue\n",
        "  plt.scatter(test_data, test_labels, c='b', s=4, label=\"Testing data\")\n",
        "\n",
        "  #If predictions exists\n",
        "  if predictions is not None:\n",
        "    plt.scatter(test_data, predictions, c=\"g\",s=4,label=\"Predictions\")\n",
        "  \n",
        "  #Show the legend\n",
        "  plt.legend(prop={\"size\": 14})\n",
        "\n"
      ],
      "metadata": {
        "id": "ThLLsmbAGWdi"
      },
      "execution_count": 5,
      "outputs": []
    },
    {
      "cell_type": "code",
      "source": [
        "plot_predictions()"
      ],
      "metadata": {
        "colab": {
          "base_uri": "https://localhost:8080/",
          "height": 460
        },
        "id": "p1Xm-xXXFtMq",
        "outputId": "bb0998e3-c295-4243-dd12-a6f0061b4094"
      },
      "execution_count": 6,
      "outputs": [
        {
          "output_type": "display_data",
          "data": {
            "text/plain": [
              "<Figure size 1000x700 with 1 Axes>"
            ],
            "image/png": "[encoded data removed]"
          },
          "metadata": {}
        }
      ]
    },
    {
      "cell_type": "markdown",
      "source": [
        "## 2. Building our first model\n",
        "1. Start with random weights and bias\n",
        "2. Update the weights and biases based on the training data\n",
        "\n",
        "Two main algorithms used:\n",
        "1. Gradient Descent\n",
        "2. Backpropagation"
      ],
      "metadata": {
        "id": "NwmtmJfYJRyw"
      }
    },
    {
      "cell_type": "code",
      "source": [
        " # Create linear regression model class\n",
        "class LinearRegressionModel(nn.Module): #nn.Module contains all the building block for neural networks\n",
        "  def __init__(self):\n",
        "    super().__init__()\n",
        "    #Initialize model parameters\n",
        "    self.weights = nn.Parameter(torch.rand(1,\n",
        "                                           requires_grad = True, #Pytorch will track the gradients of this specific parameter for use with torch.autograd\n",
        "                                           dtype = torch.float))\n",
        "    self.bias = nn.Parameter(torch.rand(1,\n",
        "                                        requires_grad = True,\n",
        "                                        dtype = torch.float))\n",
        "  #Forward Method -> defines the forward computation of the model\n",
        "  def forward(self, x: torch.Tensor) -> torch.Tensor: # x->input data\n",
        "    return self.weights*x + self.bias #linear regression model"
      ],
      "metadata": {
        "id": "go9zpwE5KOgq"
      },
      "execution_count": 54,
      "outputs": []
    },
    {
      "cell_type": "markdown",
      "source": [
        "### Pytorch Model building essentials\n",
        "* torch.nn - contains all the building blocks for computational graphs\n",
        "* torch.nn.Parameter - what parameters should our model try and learn\n",
        "* torch.nn.Module - the base class for all neural networks modules\n",
        "* torch.optim - package implementing various optimization algorithms\n",
        "* torch.utils.data.Dataset - Represents a map between key(label) and sample (features) pairs of your data. Such as images and associated labels\n",
        "* torch.utils.data.Dataloader - Creates a Python iterable over a torch Dataset\n"
      ],
      "metadata": {
        "id": "xfDQXPsIvzEm"
      }
    },
    {
      "cell_type": "markdown",
      "source": [
        "### Checking the contents of the PyTorch model\n",
        "We can do it using `.parameters()`"
      ],
      "metadata": {
        "id": "bjtAgYv7AjAy"
      }
    },
    {
      "cell_type": "code",
      "source": [
        "torch.manual_seed(42)\n",
        "\n",
        "#Creating an instance of our model\n",
        "model_0 = LinearRegressionModel()\n",
        "\n",
        "#Checking the parameters\n",
        "list(model_0.parameters())"
      ],
      "metadata": {
        "colab": {
          "base_uri": "https://localhost:8080/"
        },
        "id": "K3I3uXzwvy9S",
        "outputId": "1ac33a6a-1d9d-4f15-c331-b8228fa765b8"
      },
      "execution_count": 55,
      "outputs": [
        {
          "output_type": "execute_result",
          "data": {
            "text/plain": [
              "[Parameter containing:\n",
              " tensor([0.8823], requires_grad=True),\n",
              " Parameter containing:\n",
              " tensor([0.9150], requires_grad=True)]"
            ]
          },
          "metadata": {},
          "execution_count": 55
        }
      ]
    },
    {
      "cell_type": "code",
      "source": [
        "# List named parameters\n",
        "model_0.state_dict()"
      ],
      "metadata": {
        "colab": {
          "base_uri": "https://localhost:8080/"
        },
        "id": "OzOMrJEivy2N",
        "outputId": "cb764933-3395-4ae7-f948-15b6a895b3a0"
      },
      "execution_count": 56,
      "outputs": [
        {
          "output_type": "execute_result",
          "data": {
            "text/plain": [
              "OrderedDict([('weights', tensor([0.8823])), ('bias', tensor([0.9150]))])"
            ]
          },
          "metadata": {},
          "execution_count": 56
        }
      ]
    },
    {
      "cell_type": "markdown",
      "source": [
        "### Making predictions using `torch.inference_mode()`"
      ],
      "metadata": {
        "id": "zA092aywvyvE"
      }
    },
    {
      "cell_type": "code",
      "source": [
        "# Make predictions\n",
        "with torch.inference_mode():\n",
        "  y_preds = model_0(X_test)\n",
        "y_preds"
      ],
      "metadata": {
        "colab": {
          "base_uri": "https://localhost:8080/"
        },
        "id": "c4qdutAEvymz",
        "outputId": "90523304-0fad-4a69-8d4e-13e12de2e09a"
      },
      "execution_count": 47,
      "outputs": [
        {
          "output_type": "execute_result",
          "data": {
            "text/plain": [
              "tensor([[1.6208],\n",
              "        [1.6296],\n",
              "        [1.6385],\n",
              "        [1.6473],\n",
              "        [1.6561],\n",
              "        [1.6649],\n",
              "        [1.6738],\n",
              "        [1.6826],\n",
              "        [1.6914],\n",
              "        [1.7002],\n",
              "        [1.7090],\n",
              "        [1.7179],\n",
              "        [1.7267],\n",
              "        [1.7355],\n",
              "        [1.7443],\n",
              "        [1.7532],\n",
              "        [1.7620],\n",
              "        [1.7708],\n",
              "        [1.7796],\n",
              "        [1.7885]])"
            ]
          },
          "metadata": {},
          "execution_count": 47
        }
      ]
    },
    {
      "cell_type": "code",
      "source": [
        "plot_predictions(predictions = y_preds)"
      ],
      "metadata": {
        "colab": {
          "base_uri": "https://localhost:8080/",
          "height": 460
        },
        "id": "-4QApvseS4o7",
        "outputId": "47ca210a-b139-456c-dc47-6edc2d513239"
      },
      "execution_count": 11,
      "outputs": [
        {
          "output_type": "display_data",
          "data": {
            "text/plain": [
              "<Figure size 1000x700 with 1 Axes>"
            ],
            "image/png": "[encoded data removed]"
          },
          "metadata": {}
        }
      ]
    },
    {
      "cell_type": "markdown",
      "source": [
        "## 3. Train Model\n",
        "Things we need to train:\n",
        "* **Loss Function:** Loss is the penalty for a bad prediction. Loss is a number indicating how bad the model's prediction was on a single example.\n",
        "* **Optimizer:** An optimizer is an algorithm or function that adapts the neural network's attributes, like learning rate and weights\n",
        "  * Inside the optimizer there are two main arguments: \n",
        "    * `params` : the model parameters that you would like to optimize, for example `params=model_0.parameters()`\n",
        "    * `lr` : the learning rate"
      ],
      "metadata": {
        "id": "x5uYcFoGTMqG"
      }
    },
    {
      "cell_type": "code",
      "source": [
        "# Set up a loss function\n",
        "loss_fn = nn.L1Loss()\n",
        "\n",
        "#Set up optimizer (stochastic gradient descent)\n",
        "optimizer = torch.optim.SGD(params=model_0.parameters(),\n",
        "                            lr = 1e-2)"
      ],
      "metadata": {
        "id": "--lRxuTKc3C3"
      },
      "execution_count": 57,
      "outputs": []
    },
    {
      "cell_type": "code",
      "source": [
        "loss_fn"
      ],
      "metadata": {
        "colab": {
          "base_uri": "https://localhost:8080/"
        },
        "id": "ntvBadW2f-TH",
        "outputId": "6d3bb404-e412-4ac3-d6ee-182447d0d254"
      },
      "execution_count": 58,
      "outputs": [
        {
          "output_type": "execute_result",
          "data": {
            "text/plain": [
              "L1Loss()"
            ]
          },
          "metadata": {},
          "execution_count": 58
        }
      ]
    },
    {
      "cell_type": "markdown",
      "source": [
        "### Building a training loop and a testing loop: \n",
        "0. Loop through the data and do ...\n",
        "1. Forward pass - this involves our data moving through our `forward()` functions\n",
        "2. Calculate the loss \n",
        "3. Optimizer zero grad\n",
        "4. Loss backward - move backwards through the network to calculate the gradients of each of the parameters of our model wrt to the loss (**backpropogation**)\n",
        "5. Optimizer step - use the optimizer to adjust the model's parameters to try and improve the loss (**gradient descent**)"
      ],
      "metadata": {
        "id": "F5NajW2jf_Px"
      }
    },
    {
      "cell_type": "code",
      "source": [
        "list(model_0.parameters())"
      ],
      "metadata": {
        "colab": {
          "base_uri": "https://localhost:8080/"
        },
        "id": "6uXkAepemRry",
        "outputId": "a1a8d8f6-33c4-405e-af08-0382ba28c65b"
      },
      "execution_count": 59,
      "outputs": [
        {
          "output_type": "execute_result",
          "data": {
            "text/plain": [
              "[Parameter containing:\n",
              " tensor([0.8823], requires_grad=True),\n",
              " Parameter containing:\n",
              " tensor([0.9150], requires_grad=True)]"
            ]
          },
          "metadata": {},
          "execution_count": 59
        }
      ]
    },
    {
      "cell_type": "code",
      "source": [
        "torch.manual_seed(42)\n",
        "# Epoch - one loop through the data\n",
        "epochs = 200\n",
        "\n",
        "#Tracking different values\n",
        "epoch_count = []\n",
        "loss_values = []\n",
        "test_loss_values = []\n",
        "# 0. Loop through the data\n",
        "for epoch in range(epochs):\n",
        "  #Set the model to training mode\n",
        "  model_0.train() #tells your model that you are training the model, sets all parameters that require gradient to require gradient\n",
        "  #1. Forward Pass\n",
        "  y_pred = model_0(X_train)\n",
        "  #2. Calculate loss\n",
        "  loss = loss_fn(y_pred,y_train)\n",
        "  #3. Optimizer zero grad\n",
        "  optimizer.zero_grad()\n",
        "  #4. Perform backpropogation\n",
        "  loss.backward()\n",
        "  #5. Step the optimizer\n",
        "  optimizer.step()\n",
        "\n",
        "  ### Testing\n",
        "  model_0.eval() #evaluation mode turns off different settings not needed for testing\n",
        "  with torch.inference_mode():\n",
        "    #1. Do the forward pass\n",
        "    test_pred = model_0(X_test)\n",
        "    #2. Calculate the loss\n",
        "    test_loss = loss_fn(test_pred,y_test)\n",
        "  if(epoch%10==0):\n",
        "    epoch_count.append(epoch)\n",
        "    loss_values.append(loss)\n",
        "    test_loss_values.append(test_loss)\n",
        "    print(f\"Epoch: {epoch} | Loss: {loss} | Test loss: {test_loss}\")\n",
        "    print(model_0.state_dict())\n"
      ],
      "metadata": {
        "colab": {
          "base_uri": "https://localhost:8080/"
        },
        "id": "rXsVoolbllRG",
        "outputId": "4ef54fa3-0ed3-480e-eec7-f7a775bf257d"
      },
      "execution_count": 60,
      "outputs": [
        {
          "output_type": "stream",
          "name": "stdout",
          "text": [
            "Epoch: 0 | Loss: 0.42650026082992554 | Test loss: 0.5540996789932251\n",
            "OrderedDict([('weights', tensor([0.8783])), ('bias', tensor([0.9050]))])\n",
            "Epoch: 10 | Loss: 0.3108978867530823 | Test loss: 0.4187472462654114\n",
            "OrderedDict([('weights', tensor([0.8388])), ('bias', tensor([0.8050]))])\n",
            "Epoch: 20 | Loss: 0.19529548287391663 | Test loss: 0.28339484333992004\n",
            "OrderedDict([('weights', tensor([0.7993])), ('bias', tensor([0.7050]))])\n",
            "Epoch: 30 | Loss: 0.07969306409358978 | Test loss: 0.1480424404144287\n",
            "OrderedDict([('weights', tensor([0.7598])), ('bias', tensor([0.6050]))])\n",
            "Epoch: 40 | Loss: 0.026262417435646057 | Test loss: 0.06785296648740768\n",
            "OrderedDict([('weights', tensor([0.7266])), ('bias', tensor([0.5545]))])\n",
            "Epoch: 50 | Loss: 0.021811222657561302 | Test loss: 0.05067002773284912\n",
            "OrderedDict([('weights', tensor([0.7069])), ('bias', tensor([0.5550]))])\n",
            "Epoch: 60 | Loss: 0.01838233694434166 | Test loss: 0.04267846792936325\n",
            "OrderedDict([('weights', tensor([0.6899])), ('bias', tensor([0.5623]))])\n",
            "Epoch: 70 | Loss: 0.014957264065742493 | Test loss: 0.03434291481971741\n",
            "OrderedDict([('weights', tensor([0.6727])), ('bias', tensor([0.5693]))])\n",
            "Epoch: 80 | Loss: 0.011531228199601173 | Test loss: 0.02635135129094124\n",
            "OrderedDict([('weights', tensor([0.6557])), ('bias', tensor([0.5765]))])\n",
            "Epoch: 90 | Loss: 0.008105183951556683 | Test loss: 0.018359791487455368\n",
            "OrderedDict([('weights', tensor([0.6387])), ('bias', tensor([0.5838]))])\n",
            "Epoch: 100 | Loss: 0.004680352751165628 | Test loss: 0.010370409116148949\n",
            "OrderedDict([('weights', tensor([0.6216])), ('bias', tensor([0.5910]))])\n",
            "Epoch: 110 | Loss: 0.0016132608288899064 | Test loss: 0.008832776919007301\n",
            "OrderedDict([('weights', tensor([0.6071])), ('bias', tensor([0.6025]))])\n",
            "Epoch: 120 | Loss: 0.006262693554162979 | Test loss: 0.008832776919007301\n",
            "OrderedDict([('weights', tensor([0.6071])), ('bias', tensor([0.6025]))])\n",
            "Epoch: 130 | Loss: 0.006262693554162979 | Test loss: 0.008832776919007301\n",
            "OrderedDict([('weights', tensor([0.6071])), ('bias', tensor([0.6025]))])\n",
            "Epoch: 140 | Loss: 0.006262693554162979 | Test loss: 0.008832776919007301\n",
            "OrderedDict([('weights', tensor([0.6071])), ('bias', tensor([0.6025]))])\n",
            "Epoch: 150 | Loss: 0.006262693554162979 | Test loss: 0.008832776919007301\n",
            "OrderedDict([('weights', tensor([0.6071])), ('bias', tensor([0.6025]))])\n",
            "Epoch: 160 | Loss: 0.006262693554162979 | Test loss: 0.008832776919007301\n",
            "OrderedDict([('weights', tensor([0.6071])), ('bias', tensor([0.6025]))])\n",
            "Epoch: 170 | Loss: 0.006262693554162979 | Test loss: 0.008832776919007301\n",
            "OrderedDict([('weights', tensor([0.6071])), ('bias', tensor([0.6025]))])\n",
            "Epoch: 180 | Loss: 0.006262693554162979 | Test loss: 0.008832776919007301\n",
            "OrderedDict([('weights', tensor([0.6071])), ('bias', tensor([0.6025]))])\n",
            "Epoch: 190 | Loss: 0.006262693554162979 | Test loss: 0.008832776919007301\n",
            "OrderedDict([('weights', tensor([0.6071])), ('bias', tensor([0.6025]))])\n"
          ]
        }
      ]
    },
    {
      "cell_type": "code",
      "source": [
        "with torch.inference_mode():\n",
        "  #Plotting the loss curves\n",
        "  plt.plot(epoch_count, loss_values, label=\"Training Loss\")\n",
        "  plt.plot(epoch_count, test_loss_values,label=\"Test Loss\")\n",
        "  plt.title(\"Training and test loss curves\")\n",
        "  plt.ylabel(\"Loss values\")\n",
        "  plt.xlabel(\"Number of epochs\")\n",
        "  plt.legend()"
      ],
      "metadata": {
        "colab": {
          "base_uri": "https://localhost:8080/",
          "height": 472
        },
        "id": "DD4rNoTB3eoP",
        "outputId": "0e3050c3-faf2-48a9-8106-f18de38f386a"
      },
      "execution_count": 68,
      "outputs": [
        {
          "output_type": "display_data",
          "data": {
            "text/plain": [
              "<Figure size 640x480 with 1 Axes>"
            ],
            "image/png": "[encoded data removed]"
          },
          "metadata": {}
        }
      ]
    },
    {
      "cell_type": "code",
      "source": [
        "model_0.state_dict()"
      ],
      "metadata": {
        "colab": {
          "base_uri": "https://localhost:8080/"
        },
        "id": "s6WhSVzo92yc",
        "outputId": "4a568c37-f70a-4a22-a726-7d70f3e23d2e"
      },
      "execution_count": 61,
      "outputs": [
        {
          "output_type": "execute_result",
          "data": {
            "text/plain": [
              "OrderedDict([('weights', tensor([0.6031])), ('bias', tensor([0.5925]))])"
            ]
          },
          "metadata": {},
          "execution_count": 61
        }
      ]
    },
    {
      "cell_type": "code",
      "source": [
        "weight,bias"
      ],
      "metadata": {
        "colab": {
          "base_uri": "https://localhost:8080/"
        },
        "id": "PfqDAXAG96fx",
        "outputId": "abacf703-a0ad-45fa-da07-d7d08a8b88fc"
      },
      "execution_count": 38,
      "outputs": [
        {
          "output_type": "execute_result",
          "data": {
            "text/plain": [
              "(0.6, 0.6)"
            ]
          },
          "metadata": {},
          "execution_count": 38
        }
      ]
    },
    {
      "cell_type": "code",
      "source": [
        "with torch.inference_mode(): #turns of gradient tracking and other stuff\n",
        "  y_preds_new = model_0(X_test)\n",
        "plot_predictions(predictions=y_preds_new)"
      ],
      "metadata": {
        "colab": {
          "base_uri": "https://localhost:8080/",
          "height": 460
        },
        "id": "jEZfV5R298eV",
        "outputId": "82621f64-4a79-4554-8731-6158f9831fb8"
      },
      "execution_count": 62,
      "outputs": [
        {
          "output_type": "display_data",
          "data": {
            "text/plain": [
              "<Figure size 1000x700 with 1 Axes>"
            ],
            "image/png": "[encoded data removed]"
          },
          "metadata": {}
        }
      ]
    },
    {
      "cell_type": "markdown",
      "source": [
        "## Saving and Loading a model in PyTorch\n",
        "1. `torch.save()` - allows users to save PyTorch object in Python's pickle format. Recommended - `torch.save(model.state_dict(), PATH)`\n",
        "2. `torch.load()` - allows users to load the saved object. \n",
        "<br>Recommeded - `model = TheModelClass(*args **kwargs)` <br>\n",
        "`model.load_state_dict(torch.load(PATH))` <br>\n",
        "`model.eval()`\n",
        "3. `torch.nn.Module.load_state_dict()` - this allows to load a model's saved state dictionary  "
      ],
      "metadata": {
        "id": "Hew9bMvY_8tt"
      }
    },
    {
      "cell_type": "code",
      "source": [
        "#Saving Model\n",
        "from pathlib import Path\n",
        "\n",
        "# 1. Create models directory\n",
        "MODEL_PATH = Path(\"models\")\n",
        "MODEL_PATH.mkdir(parents=True, exist_ok=True)\n",
        "\n",
        "#2. Model Save path\n",
        "MODEL_NAME = \"linear_regression_model_0.pth\"\n",
        "MODEL_SAVE_PATH = MODEL_PATH / MODEL_NAME\n",
        "print(f\"Saving the model at: {MODEL_SAVE_PATH}\")\n",
        "torch.save(obj=model_0.state_dict(),\n",
        "           f=MODEL_SAVE_PATH)"
      ],
      "metadata": {
        "colab": {
          "base_uri": "https://localhost:8080/"
        },
        "id": "suK5L0B79hHu",
        "outputId": "07e1b53a-20df-45bd-93c6-eea0cbf850b4"
      },
      "execution_count": 73,
      "outputs": [
        {
          "output_type": "stream",
          "name": "stdout",
          "text": [
            "Saving the model at: models/linear_regression_model_0.pth\n"
          ]
        }
      ]
    },
    {
      "cell_type": "code",
      "source": [
        "#Loading Model\n",
        "print(f\"Loading the model at {MODEL_SAVE_PATH}\")\n",
        "model_0_load = LinearRegressionModel()\n",
        "model_0_load.load_state_dict(torch.load(MODEL_SAVE_PATH))\n",
        "model_0_load.eval()"
      ],
      "metadata": {
        "colab": {
          "base_uri": "https://localhost:8080/"
        },
        "id": "zpkYPTIq-fkE",
        "outputId": "1e4fa11b-2ec6-44c4-9b42-63b974948322"
      },
      "execution_count": 77,
      "outputs": [
        {
          "output_type": "stream",
          "name": "stdout",
          "text": [
            "Loading the model at models/linear_regression_model_0.pth\n"
          ]
        },
        {
          "output_type": "execute_result",
          "data": {
            "text/plain": [
              "LinearRegressionModel()"
            ]
          },
          "metadata": {},
          "execution_count": 77
        }
      ]
    },
    {
      "cell_type": "code",
      "source": [
        "with torch.inference_mode():\n",
        "  y_preds_load = model_0_load(X_test)\n",
        "plot_predictions(predictions=y_preds_load)"
      ],
      "metadata": {
        "colab": {
          "base_uri": "https://localhost:8080/",
          "height": 460
        },
        "id": "eoBYdQ7xBGVo",
        "outputId": "4d6e6aaf-f6df-4bfc-d80e-9cf9f6b60f8c"
      },
      "execution_count": 78,
      "outputs": [
        {
          "output_type": "display_data",
          "data": {
            "text/plain": [
              "<Figure size 1000x700 with 1 Axes>"
            ],
            "image/png": "[encoded data removed]"
          },
          "metadata": {}
        }
      ]
    },
    {
      "cell_type": "code",
      "source": [
        "model_0_load.state_dict()"
      ],
      "metadata": {
        "colab": {
          "base_uri": "https://localhost:8080/"
        },
        "id": "E-8pkYvtBOYL",
        "outputId": "7150dafa-f34c-42c8-bab8-ff627540f833"
      },
      "execution_count": 79,
      "outputs": [
        {
          "output_type": "execute_result",
          "data": {
            "text/plain": [
              "OrderedDict([('weights', tensor([0.6031])), ('bias', tensor([0.5925]))])"
            ]
          },
          "metadata": {},
          "execution_count": 79
        }
      ]
    },
    {
      "cell_type": "code",
      "source": [
        "model_0.state_dict()"
      ],
      "metadata": {
        "colab": {
          "base_uri": "https://localhost:8080/"
        },
        "id": "D8L5tJ50GHjC",
        "outputId": "fc0eacbb-d4c9-43c7-f34e-f34213804bb1"
      },
      "execution_count": 80,
      "outputs": [
        {
          "output_type": "execute_result",
          "data": {
            "text/plain": [
              "OrderedDict([('weights', tensor([0.6031])), ('bias', tensor([0.5925]))])"
            ]
          },
          "metadata": {},
          "execution_count": 80
        }
      ]
    },
    {
      "cell_type": "code",
      "source": [],
      "metadata": {
        "id": "Zg0bfsqUGLzx"
      },
      "execution_count": null,
      "outputs": []
    }
  ]
}
